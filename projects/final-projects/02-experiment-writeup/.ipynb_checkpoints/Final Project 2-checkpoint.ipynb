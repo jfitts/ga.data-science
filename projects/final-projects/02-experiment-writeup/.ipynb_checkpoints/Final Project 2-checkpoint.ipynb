{
 "cells": [
  {
   "cell_type": "code",
   "execution_count": null,
   "metadata": {
    "collapsed": true
   },
   "outputs": [],
   "source": [
    "#### Project Problem and Hypothesis:"
   ]
  },
  {
   "cell_type": "code",
   "execution_count": null,
   "metadata": {
    "collapsed": true,
    "slideshow": {
     "slide_type": "-"
    }
   },
   "outputs": [],
   "source": [
    "#### Successful crowdfunding continues to be a challenge for many individuals and businesses.  While there has been a lot of research in the donation-based crowdfunding space there has been less insight in the relatively new investment crowdfunding arena. As such, the focus of this project is to build a simple regression model to predict investment crowdfunding success using various categorical and continuous variables.  \n"
   ]
  },
  {
   "cell_type": "code",
   "execution_count": null,
   "metadata": {
    "collapsed": true
   },
   "outputs": [],
   "source": [
    "#### Determine how likely a corporate issuer is to successfully reach its crowdfunding target raise based upon CrowdWatch Market Data from October 2013 to November 2015 on closed deals for Title II 506(c) private offerings."
   ]
  },
  {
   "cell_type": "code",
   "execution_count": null,
   "metadata": {
    "collapsed": true
   },
   "outputs": [],
   "source": [
    "#### It is my current hypothesis the strength of the portal used for investment crowdfunding campaign will have the most impact in predicting investment crowdfunding success.  Issuers listing on industry leading (high strength) portal are more likely to reach their target raise compared to deals listed on the other investment portals.  In future work this dataset would be supplemented with details on the number of contributors, specifics about use social media activty or other key factors as predictors/covariates. "
   ]
  },
  {
   "cell_type": "code",
   "execution_count": null,
   "metadata": {
    "collapsed": true
   },
   "outputs": [],
   "source": [
    "#### Ultimately, this problem is probably best tackled with a variety of data science tools and techniques.  Various academic PhD research has utilized K-Nearest Neighbors(KNN), Random Forests and Support Vector Machines (SVM) alone or in combination.  Due to limitations this initial project will use logistic regression model to predict a binary result."
   ]
  },
  {
   "cell_type": "code",
   "execution_count": null,
   "metadata": {
    "collapsed": true
   },
   "outputs": [],
   "source": [
    "#### For my purposes this project is a starting point for future data-driven consulting work with clients raising capital using investment crowdfunding.  Any models or techniques to improve the likelihood of success would be mutually beneficial. "
   ]
  },
  {
   "cell_type": "code",
   "execution_count": null,
   "metadata": {
    "collapsed": true
   },
   "outputs": [],
   "source": [
    "#### Dataset:"
   ]
  },
  {
   "cell_type": "code",
   "execution_count": null,
   "metadata": {
    "collapsed": true
   },
   "outputs": [],
   "source": [
    "#### Dataset is non-public and paid information from CrowdWatch Market Data (source at https://www.crowdwatch.co/crowdwatch/sign_in).  Given my interest and focus is on Tier II capital raising by private issuers this data could not be easily supplemented by available public datasets. "
   ]
  },
  {
   "cell_type": "code",
   "execution_count": null,
   "metadata": {
    "collapsed": true
   },
   "outputs": [],
   "source": [
    "#### The initial dataset included 3,023 records or campaigns listed between October 2013 and November 2015.  All deals closed as 11/7/15 and were listed in the US on 1 of 15 investment crowdfunding platforms which allow for the sale of corporate securities.  This dataset included Portal Name, Sector, Subsector, Industry, City, State, Security Type, Reported Start Date, Women Led PIPR, Target Raise, Total Invested Raised, Minimum Investment, Maximum Investment, Pre Issue Market Capitalization etc."
   ]
  },
  {
   "cell_type": "code",
   "execution_count": null,
   "metadata": {
    "collapsed": true
   },
   "outputs": [],
   "source": [
    "#### Domain Knowledge:"
   ]
  },
  {
   "cell_type": "code",
   "execution_count": null,
   "metadata": {
    "collapsed": true
   },
   "outputs": [],
   "source": [
    "#### My current consulting work is in the investment crowdfunding space.  Services include business planning, company valuation and platform analysis.  In addition, solutions built upon these services involve pre-raise assessments, active-raise monitoring and post-raise evaluation.  As such, I have informally provided insight on the pros/cons on various donation-based crowdfunding portals/platforms as well as some of the factors which imact crowdfunding success in this area.  I have also created and delivered toolkits for use in pre-raise and active-raise efforts; also in donation-based crowdfunding.  At this point, I am incorporating these learnings into the investment crowdfunding space given the implementation of Title II and other components of the Jobs Act and economics of my business model.  "
   ]
  },
  {
   "cell_type": "code",
   "execution_count": null,
   "metadata": {
    "collapsed": true
   },
   "outputs": [],
   "source": [
    "#### Previous and current experience in this space helps to inform this project.  As noted, there has been a lot of public research on what drives success in donation-based campaigns.  Primarily, this work centers around public donation-based crowdfunding through portals like Kickstarter, Indiegogo and others.  This is due to the mainstream knowledge of these tools and generally public access to these campaigns.  Some have used API's/web crawlers to collect data from these crowdfunding platforms or aggregated information from third-parties.  This is the case for the Launch Hard or Go Home!  Predicting the Success of Kickstarter Projects by Vincent Etter and his team. "
   ]
  },
  {
   "cell_type": "code",
   "execution_count": null,
   "metadata": {
    "collapsed": true
   },
   "outputs": [],
   "source": [
    "#### Based upon my research I have not found any similar research efforts in the investment crowdfunding space.  I believe this is because these offerings are from private issuers relying on a Regulation D exception from SEC registration (aka Tier II).  While the closing speed of these deals is generally faster than other options due to reduced offering documentation the information gathered by the portals is only available to accredited investors.  In addition, data collected via Form D will have to be standardized in order to conduct the kind of analysis already done in the donation-based crowdfunding area.  "
   ]
  },
  {
   "cell_type": "code",
   "execution_count": null,
   "metadata": {
    "collapsed": true
   },
   "outputs": [],
   "source": [
    "#### Project Concerns:"
   ]
  },
  {
   "cell_type": "code",
   "execution_count": null,
   "metadata": {
    "collapsed": true
   },
   "outputs": [],
   "source": [
    "#### My primary concern is the limitation of the dataset available.  Almost all of the variables are categorical and there is no information available about number of contributors or social media activity.  As such, this model may predict the importance of the portal's success prestige it cannot address the other variables which are clearly important to investment crowdfunding as noted above. "
   ]
  },
  {
   "cell_type": "code",
   "execution_count": null,
   "metadata": {
    "collapsed": true
   },
   "outputs": [],
   "source": [
    "#### As stated, the implication is that only the variables noted above are predictive of investment crowdfunding success.  In addition, strength is being used as a proxy for an industry leading platform and in this case is defined categorically; 1 = no strength 2 = low strength 3 = good strength 4 = high strength.  In this case, strength is based upon the portal's aggregate percentage of successfully raises from the dataset.  Portals with 0-25% success are deemed no strength(1), 26-50% are low strength(2), 51-75% are good strength(3) and 76-100%(4) are high strength. "
   ]
  },
  {
   "cell_type": "code",
   "execution_count": null,
   "metadata": {
    "collapsed": true
   },
   "outputs": [],
   "source": [
    "#### If there is an association between investment crowdfunding success and the strength of the portal a client should be advised to list their offering there for the best outcome.  However, the risk is that the model does not incorporate the other factors/variables which impact success so this must be communicated clearly at the onset. "
   ]
  },
  {
   "cell_type": "code",
   "execution_count": null,
   "metadata": {
    "collapsed": true
   },
   "outputs": [],
   "source": [
    "#### For the project the dataset had to be cleaned to address missing values.  As such, 1 record was deleted as it was missing Sector, Sub-Sector and Industry.  In addition, a few records were missing Industry so these two were completed using the issuer's description of their operations.  Third, many records did not include a city or had partial address so these were removed.  Next, many records did not include a Women-Led PIPR indentifer so Unknown was used in these instances.  Lastly, the country column was removed as all records are for US companies.  Lastly, the dataset was modified to add a column for Success which was determined by whether or not the company reached its crowdfunding target.  In addition, the Strength column was added to the dataset as noted above. "
   ]
  },
  {
   "cell_type": "code",
   "execution_count": null,
   "metadata": {
    "collapsed": true
   },
   "outputs": [],
   "source": [
    "#### Outcome:"
   ]
  },
  {
   "cell_type": "code",
   "execution_count": null,
   "metadata": {
    "collapsed": true
   },
   "outputs": [],
   "source": [
    "#### The expected outcome would be a success prediction of between 0 and 1 for each record.  Based upon my hypothesis I would further speculate the issuer's success prediction would be greater when the portal is of higher strength."
   ]
  },
  {
   "cell_type": "code",
   "execution_count": null,
   "metadata": {
    "collapsed": true
   },
   "outputs": [],
   "source": [
    "#### As the research would be for internal purposes there is no target audience.  However, a summary of these results in graphical form might be included in a deck to a prospective client or during a platform analysis or related consulting engagement."
   ]
  },
  {
   "cell_type": "code",
   "execution_count": null,
   "metadata": {
    "collapsed": true
   },
   "outputs": [],
   "source": [
    "#### I am unsure what gain I expect from the strength feature alone and believe the model will not need to be complex in this iteration.  However, a future logistic model would need to include the other variables noted above and also might try other models such as a Decision Tree or Random Forest."
   ]
  },
  {
   "cell_type": "code",
   "execution_count": null,
   "metadata": {
    "collapsed": true
   },
   "outputs": [],
   "source": [
    "#### Given the low percentage of success (~4%) there is great room for improvement.  As such, a success prediction of more than 60% from this dataset would be deemed very successful.  However, if the results do not meet this criteria the need for other variables in the dataset will be definitive. "
   ]
  }
 ],
 "metadata": {
  "kernelspec": {
   "display_name": "Python 2",
   "language": "python",
   "name": "python2"
  },
  "language_info": {
   "codemirror_mode": {
    "name": "ipython",
    "version": 2
   },
   "file_extension": ".py",
   "mimetype": "text/x-python",
   "name": "python",
   "nbconvert_exporter": "python",
   "pygments_lexer": "ipython2",
   "version": "2.7.11"
  }
 },
 "nbformat": 4,
 "nbformat_minor": 0
}
