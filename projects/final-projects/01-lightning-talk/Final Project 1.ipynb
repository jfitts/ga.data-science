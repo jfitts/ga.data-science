{
 "cells": [
  {
   "cell_type": "code",
   "execution_count": 14,
   "metadata": {
    "collapsed": false
   },
   "outputs": [],
   "source": [
    "#### Problem Statement:"
   ]
  },
  {
   "cell_type": "code",
   "execution_count": 11,
   "metadata": {
    "collapsed": true
   },
   "outputs": [],
   "source": [
    "#### Determine how likely a corporate issuer is to successfully reach its crowdfunding target raise based upon CrowdWatch Market Data from October 2013 to November 2015 on closed deals and most current data on closed deals for Title II 506(c) private offerings."
   ]
  },
  {
   "cell_type": "code",
   "execution_count": 20,
   "metadata": {
    "collapsed": true
   },
   "outputs": [],
   "source": [
    "#### Datasets will come from privately-held paid CrowdWatch Market Data source at https://www.crowdwatch.co/crowdwatch/sign_in"
   ]
  },
  {
   "cell_type": "code",
   "execution_count": 13,
   "metadata": {
    "collapsed": true
   },
   "outputs": [],
   "source": [
    "#### What is the outcome?"
   ]
  },
  {
   "cell_type": "code",
   "execution_count": 12,
   "metadata": {
    "collapsed": false
   },
   "outputs": [],
   "source": [
    "#### Funded indicator (0/1 = no/yes)"
   ]
  },
  {
   "cell_type": "code",
   "execution_count": 15,
   "metadata": {
    "collapsed": true
   },
   "outputs": [],
   "source": [
    "#### What are the predictors/covariates?"
   ]
  },
  {
   "cell_type": "code",
   "execution_count": 16,
   "metadata": {
    "collapsed": true
   },
   "outputs": [],
   "source": [
    "#### Portal Name, Sector, Subsector, Industry, City, State, Security Type, Reported Start Date, Women Led PIPR, Target Raise, Total Invested Raised, Minimum Investment, Maximum Investment, Pre Issue Market Capitalization etc."
   ]
  },
  {
   "cell_type": "code",
   "execution_count": 19,
   "metadata": {
    "collapsed": false
   },
   "outputs": [],
   "source": [
    "#### What is the hypothesis?"
   ]
  },
  {
   "cell_type": "code",
   "execution_count": null,
   "metadata": {
    "collapsed": true
   },
   "outputs": [],
   "source": [
    "#### Issuers listing on the SeedInvest portal are more likely to reach their target raise compared to deals listed on the other investment portals."
   ]
  },
  {
   "cell_type": "code",
   "execution_count": null,
   "metadata": {
    "collapsed": true
   },
   "outputs": [],
   "source": [
    "#### What type of predictive model will be used for analysis?"
   ]
  },
  {
   "cell_type": "code",
   "execution_count": null,
   "metadata": {
    "collapsed": true
   },
   "outputs": [],
   "source": [
    "#### Logistic regression using stats models with interpretation of findings"
   ]
  },
  {
   "cell_type": "code",
   "execution_count": 1,
   "metadata": {
    "collapsed": true
   },
   "outputs": [],
   "source": [
    "%matplotlib inline\n",
    "import matplotlib.pyplot as plt\n",
    "import pandas as pd\n",
    "import statsmodels.api as sm\n",
    "import pylab as pl\n",
    "import numpy as np\n",
    "from sklearn.linear_model import LogisticRegression"
   ]
  },
  {
   "cell_type": "code",
   "execution_count": 9,
   "metadata": {
    "collapsed": false
   },
   "outputs": [
    {
     "data": {
      "text/html": [
       "<div>\n",
       "<table border=\"1\" class=\"dataframe\">\n",
       "  <thead>\n",
       "    <tr style=\"text-align: right;\">\n",
       "      <th></th>\n",
       "      <th>CFIIN</th>\n",
       "      <th>PIPR_Name</th>\n",
       "      <th>PIPR_Description</th>\n",
       "      <th>Portal_Name</th>\n",
       "      <th>Sector</th>\n",
       "      <th>Subsector</th>\n",
       "      <th>Industry</th>\n",
       "      <th>City</th>\n",
       "      <th>State</th>\n",
       "      <th>Country</th>\n",
       "      <th>...</th>\n",
       "      <th>Strategy</th>\n",
       "      <th>Structure</th>\n",
       "      <th>Projected_Cash_Return_Low</th>\n",
       "      <th>Projected_Cash_Return_High</th>\n",
       "      <th>Cents_Per_Sft</th>\n",
       "      <th>Property_Title</th>\n",
       "      <th>Royalty</th>\n",
       "      <th>Rev_Share</th>\n",
       "      <th>Percent_Applied_Gross_Rev</th>\n",
       "      <th>Percent_Applied_Net_Prof</th>\n",
       "    </tr>\n",
       "  </thead>\n",
       "  <tbody>\n",
       "    <tr>\n",
       "      <th>0</th>\n",
       "      <td>BUS1000000006</td>\n",
       "      <td>Connxys Technology, Inc.</td>\n",
       "      <td>\\t Fix is the airline industry's first electr...</td>\n",
       "      <td>AngelList</td>\n",
       "      <td>Technology</td>\n",
       "      <td>Computer Software</td>\n",
       "      <td>Location-Based Services</td>\n",
       "      <td>Santa Barbara</td>\n",
       "      <td>CA</td>\n",
       "      <td>US</td>\n",
       "      <td>...</td>\n",
       "      <td>NaN</td>\n",
       "      <td>NaN</td>\n",
       "      <td>NaN</td>\n",
       "      <td>NaN</td>\n",
       "      <td>NaN</td>\n",
       "      <td>NaN</td>\n",
       "      <td>NaN</td>\n",
       "      <td>NaN</td>\n",
       "      <td>NaN</td>\n",
       "      <td>NaN</td>\n",
       "    </tr>\n",
       "    <tr>\n",
       "      <th>1</th>\n",
       "      <td>US100000000F</td>\n",
       "      <td>Style Struck</td>\n",
       "      <td>\\t Style Struck is wear Music meets Fashion a...</td>\n",
       "      <td>AngelList</td>\n",
       "      <td>Services</td>\n",
       "      <td>E-Commerce</td>\n",
       "      <td>E-Commerce, Apparel &amp; Accessories</td>\n",
       "      <td>Boynton Beach</td>\n",
       "      <td>FL</td>\n",
       "      <td>US</td>\n",
       "      <td>...</td>\n",
       "      <td>NaN</td>\n",
       "      <td>NaN</td>\n",
       "      <td>NaN</td>\n",
       "      <td>NaN</td>\n",
       "      <td>NaN</td>\n",
       "      <td>NaN</td>\n",
       "      <td>NaN</td>\n",
       "      <td>NaN</td>\n",
       "      <td>NaN</td>\n",
       "      <td>NaN</td>\n",
       "    </tr>\n",
       "    <tr>\n",
       "      <th>2</th>\n",
       "      <td>US3000000010</td>\n",
       "      <td>CREATE.IT</td>\n",
       "      <td>\\t  The Create!t Talent Exchange offers perfo...</td>\n",
       "      <td>AngelList</td>\n",
       "      <td>Services</td>\n",
       "      <td>Marketing</td>\n",
       "      <td>Marketing, General</td>\n",
       "      <td>Los Angeles</td>\n",
       "      <td>CA</td>\n",
       "      <td>US</td>\n",
       "      <td>...</td>\n",
       "      <td>NaN</td>\n",
       "      <td>NaN</td>\n",
       "      <td>NaN</td>\n",
       "      <td>NaN</td>\n",
       "      <td>NaN</td>\n",
       "      <td>NaN</td>\n",
       "      <td>NaN</td>\n",
       "      <td>NaN</td>\n",
       "      <td>NaN</td>\n",
       "      <td>NaN</td>\n",
       "    </tr>\n",
       "    <tr>\n",
       "      <th>3</th>\n",
       "      <td>US1000000014</td>\n",
       "      <td>Devvy</td>\n",
       "      <td>\\tLove Doesn't Have to Stink!   \\tSetting out...</td>\n",
       "      <td>AngelList</td>\n",
       "      <td>Consumer Goods</td>\n",
       "      <td>Household Goods</td>\n",
       "      <td>Pet Supplies</td>\n",
       "      <td>Washington</td>\n",
       "      <td>DC</td>\n",
       "      <td>US</td>\n",
       "      <td>...</td>\n",
       "      <td>NaN</td>\n",
       "      <td>NaN</td>\n",
       "      <td>NaN</td>\n",
       "      <td>NaN</td>\n",
       "      <td>NaN</td>\n",
       "      <td>NaN</td>\n",
       "      <td>NaN</td>\n",
       "      <td>NaN</td>\n",
       "      <td>NaN</td>\n",
       "      <td>NaN</td>\n",
       "    </tr>\n",
       "    <tr>\n",
       "      <th>4</th>\n",
       "      <td>US1000000015</td>\n",
       "      <td>Incio</td>\n",
       "      <td>\\t Incio is a social search engine that provi...</td>\n",
       "      <td>AngelList</td>\n",
       "      <td>Technology</td>\n",
       "      <td>Search &amp; Discovery</td>\n",
       "      <td>Search Engines</td>\n",
       "      <td>Philadelphia</td>\n",
       "      <td>PA</td>\n",
       "      <td>US</td>\n",
       "      <td>...</td>\n",
       "      <td>NaN</td>\n",
       "      <td>NaN</td>\n",
       "      <td>NaN</td>\n",
       "      <td>NaN</td>\n",
       "      <td>NaN</td>\n",
       "      <td>NaN</td>\n",
       "      <td>NaN</td>\n",
       "      <td>NaN</td>\n",
       "      <td>NaN</td>\n",
       "      <td>NaN</td>\n",
       "    </tr>\n",
       "  </tbody>\n",
       "</table>\n",
       "<p>5 rows × 62 columns</p>\n",
       "</div>"
      ],
      "text/plain": [
       "           CFIIN                 PIPR_Name  \\\n",
       "0  BUS1000000006  Connxys Technology, Inc.   \n",
       "1   US100000000F             Style Struck    \n",
       "2   US3000000010                 CREATE.IT   \n",
       "3   US1000000014                     Devvy   \n",
       "4   US1000000015                     Incio   \n",
       "\n",
       "                                    PIPR_Description Portal_Name  \\\n",
       "0   \\t Fix is the airline industry's first electr...   AngelList   \n",
       "1   \\t Style Struck is wear Music meets Fashion a...   AngelList   \n",
       "2   \\t  The Create!t Talent Exchange offers perfo...   AngelList   \n",
       "3   \\tLove Doesn't Have to Stink!   \\tSetting out...   AngelList   \n",
       "4   \\t Incio is a social search engine that provi...   AngelList   \n",
       "\n",
       "           Sector           Subsector                           Industry  \\\n",
       "0      Technology   Computer Software            Location-Based Services   \n",
       "1        Services          E-Commerce  E-Commerce, Apparel & Accessories   \n",
       "2        Services           Marketing                 Marketing, General   \n",
       "3  Consumer Goods     Household Goods                       Pet Supplies   \n",
       "4      Technology  Search & Discovery                     Search Engines   \n",
       "\n",
       "            City State Country            ...            Strategy Structure  \\\n",
       "0  Santa Barbara    CA      US            ...                 NaN       NaN   \n",
       "1  Boynton Beach    FL      US            ...                 NaN       NaN   \n",
       "2    Los Angeles    CA      US            ...                 NaN       NaN   \n",
       "3     Washington    DC      US            ...                 NaN       NaN   \n",
       "4   Philadelphia    PA      US            ...                 NaN       NaN   \n",
       "\n",
       "  Projected_Cash_Return_Low Projected_Cash_Return_High Cents_Per_Sft  \\\n",
       "0                       NaN                        NaN           NaN   \n",
       "1                       NaN                        NaN           NaN   \n",
       "2                       NaN                        NaN           NaN   \n",
       "3                       NaN                        NaN           NaN   \n",
       "4                       NaN                        NaN           NaN   \n",
       "\n",
       "  Property_Title Royalty  Rev_Share  Percent_Applied_Gross_Rev  \\\n",
       "0            NaN     NaN        NaN                        NaN   \n",
       "1            NaN     NaN        NaN                        NaN   \n",
       "2            NaN     NaN        NaN                        NaN   \n",
       "3            NaN     NaN        NaN                        NaN   \n",
       "4            NaN     NaN        NaN                        NaN   \n",
       "\n",
       "   Percent_Applied_Net_Prof  \n",
       "0                       NaN  \n",
       "1                       NaN  \n",
       "2                       NaN  \n",
       "3                       NaN  \n",
       "4                       NaN  \n",
       "\n",
       "[5 rows x 62 columns]"
      ]
     },
     "execution_count": 9,
     "metadata": {},
     "output_type": "execute_result"
    }
   ],
   "source": [
    "lm = LogisticRegression()\n",
    "df = pd.read_csv(\"closed1.csv\")\n",
    "df.head()"
   ]
  },
  {
   "cell_type": "code",
   "execution_count": null,
   "metadata": {
    "collapsed": true
   },
   "outputs": [],
   "source": []
  }
 ],
 "metadata": {
  "kernelspec": {
   "display_name": "Python 2",
   "language": "python",
   "name": "python2"
  },
  "language_info": {
   "codemirror_mode": {
    "name": "ipython",
    "version": 2
   },
   "file_extension": ".py",
   "mimetype": "text/x-python",
   "name": "python",
   "nbconvert_exporter": "python",
   "pygments_lexer": "ipython2",
   "version": "2.7.11"
  }
 },
 "nbformat": 4,
 "nbformat_minor": 0
}
