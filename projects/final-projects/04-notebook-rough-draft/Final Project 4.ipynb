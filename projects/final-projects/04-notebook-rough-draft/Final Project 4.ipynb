{
 "cells": [
  {
   "cell_type": "code",
   "execution_count": 76,
   "metadata": {
    "collapsed": true
   },
   "outputs": [],
   "source": [
    "%matplotlib inline\n",
    "import matplotlib.pyplot as plt\n",
    "import pandas as pd\n",
    "import statsmodels.api as sm\n",
    "import pylab as pl\n",
    "import numpy as np\n",
    "from sklearn.linear_model import LogisticRegression"
   ]
  },
  {
   "cell_type": "code",
   "execution_count": 78,
   "metadata": {
    "collapsed": false
   },
   "outputs": [
    {
     "name": "stdout",
     "output_type": "stream",
     "text": [
      "   Target_Raise  Total_Invested_Raised  Pre_Issue_Market_Cap  Success  \\\n",
      "0        400000                 150000              10000000        0   \n",
      "1         50000                      0                     0        0   \n",
      "2       1500000                 485822               5000000        0   \n",
      "3        100000                      0                666000        0   \n",
      "4         10000                      0                     0        0   \n",
      "\n",
      "   Strength  \n",
      "0         1  \n",
      "1         1  \n",
      "2         1  \n",
      "3         1  \n",
      "4         1  \n"
     ]
    }
   ],
   "source": [
    "#### Read in dataset from source\n",
    "lm = LogisticRegression()\n",
    "df_raw = pd.read_csv(\"icrowdfunding3.csv\")\n",
    "df = df_raw.dropna()\n",
    "print df.head()"
   ]
  },
  {
   "cell_type": "code",
   "execution_count": 4,
   "metadata": {
    "collapsed": true
   },
   "outputs": [],
   "source": [
    "#### Data Dictionary:"
   ]
  },
  {
   "cell_type": "code",
   "execution_count": 5,
   "metadata": {
    "collapsed": true
   },
   "outputs": [],
   "source": [
    "#### Variable"
   ]
  },
  {
   "cell_type": "code",
   "execution_count": 6,
   "metadata": {
    "collapsed": true
   },
   "outputs": [],
   "source": [
    "#### Success"
   ]
  },
  {
   "cell_type": "code",
   "execution_count": 7,
   "metadata": {
    "collapsed": true
   },
   "outputs": [],
   "source": [
    "#### Description - 0 = not successful 1 = successful"
   ]
  },
  {
   "cell_type": "code",
   "execution_count": 8,
   "metadata": {
    "collapsed": true
   },
   "outputs": [],
   "source": [
    "#### Type of Variable - Categorical"
   ]
  },
  {
   "cell_type": "code",
   "execution_count": 9,
   "metadata": {
    "collapsed": true
   },
   "outputs": [],
   "source": [
    "#### Variable"
   ]
  },
  {
   "cell_type": "code",
   "execution_count": 10,
   "metadata": {
    "collapsed": true
   },
   "outputs": [],
   "source": [
    "#### Strength"
   ]
  },
  {
   "cell_type": "code",
   "execution_count": 11,
   "metadata": {
    "collapsed": true
   },
   "outputs": [],
   "source": [
    "#### Description Industry Leading Portal - 1 = no strength 2 = low strength 3 = good strength 4 = high strength"
   ]
  },
  {
   "cell_type": "code",
   "execution_count": 12,
   "metadata": {
    "collapsed": true
   },
   "outputs": [],
   "source": [
    "#### Type of Variable - Categorical"
   ]
  },
  {
   "cell_type": "code",
   "execution_count": 13,
   "metadata": {
    "collapsed": true
   },
   "outputs": [],
   "source": [
    "#### Variable"
   ]
  },
  {
   "cell_type": "code",
   "execution_count": 14,
   "metadata": {
    "collapsed": true
   },
   "outputs": [],
   "source": [
    "#### Gender"
   ]
  },
  {
   "cell_type": "code",
   "execution_count": 15,
   "metadata": {
    "collapsed": true
   },
   "outputs": [],
   "source": [
    "#### Description Imputed from Women_Led_PIPR - 0 = female 1 = male"
   ]
  },
  {
   "cell_type": "code",
   "execution_count": 16,
   "metadata": {
    "collapsed": true
   },
   "outputs": [],
   "source": [
    "#### Type of Variable - Categorical"
   ]
  },
  {
   "cell_type": "code",
   "execution_count": 17,
   "metadata": {
    "collapsed": true
   },
   "outputs": [],
   "source": [
    "#### Variable"
   ]
  },
  {
   "cell_type": "code",
   "execution_count": 18,
   "metadata": {
    "collapsed": true
   },
   "outputs": [],
   "source": [
    "#### Sector"
   ]
  },
  {
   "cell_type": "code",
   "execution_count": 19,
   "metadata": {
    "collapsed": true
   },
   "outputs": [],
   "source": [
    "#### Description - Sector Category (Must Transform)"
   ]
  },
  {
   "cell_type": "code",
   "execution_count": 20,
   "metadata": {
    "collapsed": true
   },
   "outputs": [],
   "source": [
    "#### Type of Variable - Categorical"
   ]
  },
  {
   "cell_type": "code",
   "execution_count": 21,
   "metadata": {
    "collapsed": true
   },
   "outputs": [],
   "source": [
    "#### Variable"
   ]
  },
  {
   "cell_type": "code",
   "execution_count": 22,
   "metadata": {
    "collapsed": true
   },
   "outputs": [],
   "source": [
    "#### Subsector"
   ]
  },
  {
   "cell_type": "code",
   "execution_count": 23,
   "metadata": {
    "collapsed": true
   },
   "outputs": [],
   "source": [
    "#### Description - Subsector Category (Must Transform)"
   ]
  },
  {
   "cell_type": "code",
   "execution_count": 24,
   "metadata": {
    "collapsed": true
   },
   "outputs": [],
   "source": [
    "#### Type of Variable - Categorical"
   ]
  },
  {
   "cell_type": "code",
   "execution_count": 25,
   "metadata": {
    "collapsed": true
   },
   "outputs": [],
   "source": [
    "#### Variable"
   ]
  },
  {
   "cell_type": "code",
   "execution_count": 26,
   "metadata": {
    "collapsed": true
   },
   "outputs": [],
   "source": [
    "#### Security_Type"
   ]
  },
  {
   "cell_type": "code",
   "execution_count": 27,
   "metadata": {
    "collapsed": true
   },
   "outputs": [],
   "source": [
    "#### Description Security Type Category (Must Transform)"
   ]
  },
  {
   "cell_type": "code",
   "execution_count": 28,
   "metadata": {
    "collapsed": true
   },
   "outputs": [],
   "source": [
    "#### Type of Variable - Categorical"
   ]
  },
  {
   "cell_type": "code",
   "execution_count": 29,
   "metadata": {
    "collapsed": true
   },
   "outputs": [],
   "source": [
    "#### Variable"
   ]
  },
  {
   "cell_type": "code",
   "execution_count": 30,
   "metadata": {
    "collapsed": true
   },
   "outputs": [],
   "source": [
    "#### Target_Raise"
   ]
  },
  {
   "cell_type": "code",
   "execution_count": 31,
   "metadata": {
    "collapsed": true
   },
   "outputs": [],
   "source": [
    "#### Description Investment Crowdfunding Target"
   ]
  },
  {
   "cell_type": "code",
   "execution_count": 32,
   "metadata": {
    "collapsed": true
   },
   "outputs": [],
   "source": [
    "#### Type of Variable - Continuous"
   ]
  },
  {
   "cell_type": "code",
   "execution_count": 33,
   "metadata": {
    "collapsed": true
   },
   "outputs": [],
   "source": [
    "#### Variable"
   ]
  },
  {
   "cell_type": "code",
   "execution_count": 34,
   "metadata": {
    "collapsed": true
   },
   "outputs": [],
   "source": [
    "#### Pre_Issue_Market_Cap"
   ]
  },
  {
   "cell_type": "code",
   "execution_count": 35,
   "metadata": {
    "collapsed": true
   },
   "outputs": [],
   "source": [
    "#### Description Pre-Money Valuation"
   ]
  },
  {
   "cell_type": "code",
   "execution_count": 36,
   "metadata": {
    "collapsed": true
   },
   "outputs": [],
   "source": [
    "#### Type of Variable - Continuous"
   ]
  },
  {
   "cell_type": "code",
   "execution_count": 37,
   "metadata": {
    "collapsed": true
   },
   "outputs": [],
   "source": [
    "#### Exploratory Analysis:"
   ]
  },
  {
   "cell_type": "code",
   "execution_count": 79,
   "metadata": {
    "collapsed": false
   },
   "outputs": [
    {
     "data": {
      "text/plain": [
       "Target_Raise             3021\n",
       "Total_Invested_Raised    3021\n",
       "Pre_Issue_Market_Cap     3021\n",
       "Success                  3021\n",
       "Strength                 3021\n",
       "dtype: int64"
      ]
     },
     "execution_count": 79,
     "metadata": {},
     "output_type": "execute_result"
    }
   ],
   "source": [
    "#### Number of observations/records in dataset\n",
    "df.count()"
   ]
  },
  {
   "cell_type": "code",
   "execution_count": 80,
   "metadata": {
    "collapsed": false
   },
   "outputs": [
    {
     "name": "stdout",
     "output_type": "stream",
     "text": [
      "       Target_Raise  Total_Invested_Raised  Pre_Issue_Market_Cap      Success  \\\n",
      "count  3.021000e+03           3.021000e+03          3.021000e+03  3021.000000   \n",
      "mean   2.589263e+06           2.484906e+05          3.663687e+06     0.037736   \n",
      "std    4.102955e+07           1.268555e+06          4.201926e+07     0.190588   \n",
      "min    0.000000e+00           0.000000e+00          0.000000e+00     0.000000   \n",
      "25%    2.500000e+05           0.000000e+00          0.000000e+00     0.000000   \n",
      "50%    5.000000e+05           0.000000e+00          0.000000e+00     0.000000   \n",
      "75%    1.000000e+06           1.100000e+05          3.000000e+06     0.000000   \n",
      "max    2.150000e+09           3.800000e+07          2.147484e+09     1.000000   \n",
      "\n",
      "          Strength  \n",
      "count  3021.000000  \n",
      "mean      1.051639  \n",
      "std       0.232994  \n",
      "min       1.000000  \n",
      "25%       1.000000  \n",
      "50%       1.000000  \n",
      "75%       1.000000  \n",
      "max       3.000000  \n"
     ]
    }
   ],
   "source": [
    "#### Summary Table\n",
    "print df.describe()"
   ]
  },
  {
   "cell_type": "code",
   "execution_count": 81,
   "metadata": {
    "collapsed": false
   },
   "outputs": [
    {
     "data": {
      "text/plain": [
       "<matplotlib.axes._subplots.AxesSubplot at 0xae11668>"
      ]
     },
     "execution_count": 81,
     "metadata": {},
     "output_type": "execute_result"
    },
    {
     "data": {
      "image/png": "[encoded data removed]",
      "text/plain": [
       "<matplotlib.figure.Figure at 0xb09c518>"
      ]
     },
     "metadata": {},
     "output_type": "display_data"
    }
   ],
   "source": [
    "#### Distribution of each variable\n",
    "df['Target_Raise'].plot(kind='box')"
   ]
  },
  {
   "cell_type": "code",
   "execution_count": 41,
   "metadata": {
    "collapsed": false
   },
   "outputs": [
    {
     "data": {
      "text/plain": [
       "<matplotlib.axes._subplots.AxesSubplot at 0xa586198>"
      ]
     },
     "execution_count": 41,
     "metadata": {},
     "output_type": "execute_result"
    },
    {
     "data": {
      "image/png": "[encoded data removed]",
      "text/plain": [
       "<matplotlib.figure.Figure at 0xa4f0588>"
      ]
     },
     "metadata": {},
     "output_type": "display_data"
    }
   ],
   "source": [
    "df['Total_Invested_Raised'].plot(kind='box')"
   ]
  },
  {
   "cell_type": "code",
   "execution_count": 42,
   "metadata": {
    "collapsed": false
   },
   "outputs": [
    {
     "data": {
      "text/plain": [
       "<matplotlib.axes._subplots.AxesSubplot at 0xa923908>"
      ]
     },
     "execution_count": 42,
     "metadata": {},
     "output_type": "execute_result"
    },
    {
     "data": {
      "image/png": "[encoded data removed]",
      "text/plain": [
       "<matplotlib.figure.Figure at 0xa93a6d8>"
      ]
     },
     "metadata": {},
     "output_type": "display_data"
    }
   ],
   "source": [
    "df['Pre_Issue_Market_Cap'].plot(kind='box')"
   ]
  },
  {
   "cell_type": "code",
   "execution_count": 43,
   "metadata": {
    "collapsed": false
   },
   "outputs": [
    {
     "data": {
      "image/png": "[encoded data removed]",
      "text/plain": [
       "<matplotlib.figure.Figure at 0xaa45860>"
      ]
     },
     "metadata": {},
     "output_type": "display_data"
    }
   ],
   "source": [
    "df['Success'].hist()\n",
    "pl.show()"
   ]
  },
  {
   "cell_type": "code",
   "execution_count": 44,
   "metadata": {
    "collapsed": false
   },
   "outputs": [
    {
     "data": {
      "image/png": "[encoded data removed]",
      "text/plain": [
       "<matplotlib.figure.Figure at 0xade3d68>"
      ]
     },
     "metadata": {},
     "output_type": "display_data"
    }
   ],
   "source": [
    "df['Strength'].hist()\n",
    "pl.show()"
   ]
  },
  {
   "cell_type": "code",
   "execution_count": 45,
   "metadata": {
    "collapsed": false
   },
   "outputs": [
    {
     "data": {
      "text/html": [
       "<div>\n",
       "<table border=\"1\" class=\"dataframe\">\n",
       "  <thead>\n",
       "    <tr style=\"text-align: right;\">\n",
       "      <th></th>\n",
       "      <th>Target_Raise</th>\n",
       "      <th>Total_Invested_Raised</th>\n",
       "      <th>Pre_Issue_Market_Cap</th>\n",
       "      <th>Success</th>\n",
       "      <th>Strength</th>\n",
       "    </tr>\n",
       "  </thead>\n",
       "  <tbody>\n",
       "    <tr>\n",
       "      <th>Target_Raise</th>\n",
       "      <td>1.000000</td>\n",
       "      <td>0.038912</td>\n",
       "      <td>0.012050</td>\n",
       "      <td>-0.007870</td>\n",
       "      <td>-0.011360</td>\n",
       "    </tr>\n",
       "    <tr>\n",
       "      <th>Total_Invested_Raised</th>\n",
       "      <td>0.038912</td>\n",
       "      <td>1.000000</td>\n",
       "      <td>-0.005252</td>\n",
       "      <td>0.165169</td>\n",
       "      <td>0.038371</td>\n",
       "    </tr>\n",
       "    <tr>\n",
       "      <th>Pre_Issue_Market_Cap</th>\n",
       "      <td>0.012050</td>\n",
       "      <td>-0.005252</td>\n",
       "      <td>1.000000</td>\n",
       "      <td>-0.002725</td>\n",
       "      <td>-0.016121</td>\n",
       "    </tr>\n",
       "    <tr>\n",
       "      <th>Success</th>\n",
       "      <td>-0.007870</td>\n",
       "      <td>0.165169</td>\n",
       "      <td>-0.002725</td>\n",
       "      <td>1.000000</td>\n",
       "      <td>0.358770</td>\n",
       "    </tr>\n",
       "    <tr>\n",
       "      <th>Strength</th>\n",
       "      <td>-0.011360</td>\n",
       "      <td>0.038371</td>\n",
       "      <td>-0.016121</td>\n",
       "      <td>0.358770</td>\n",
       "      <td>1.000000</td>\n",
       "    </tr>\n",
       "  </tbody>\n",
       "</table>\n",
       "</div>"
      ],
      "text/plain": [
       "                       Target_Raise  Total_Invested_Raised  \\\n",
       "Target_Raise               1.000000               0.038912   \n",
       "Total_Invested_Raised      0.038912               1.000000   \n",
       "Pre_Issue_Market_Cap       0.012050              -0.005252   \n",
       "Success                   -0.007870               0.165169   \n",
       "Strength                  -0.011360               0.038371   \n",
       "\n",
       "                       Pre_Issue_Market_Cap   Success  Strength  \n",
       "Target_Raise                       0.012050 -0.007870 -0.011360  \n",
       "Total_Invested_Raised             -0.005252  0.165169  0.038371  \n",
       "Pre_Issue_Market_Cap               1.000000 -0.002725 -0.016121  \n",
       "Success                           -0.002725  1.000000  0.358770  \n",
       "Strength                          -0.016121  0.358770  1.000000  "
      ]
     },
     "execution_count": 45,
     "metadata": {},
     "output_type": "execute_result"
    }
   ],
   "source": [
    "df.corr()"
   ]
  },
  {
   "cell_type": "code",
   "execution_count": 46,
   "metadata": {
    "collapsed": true
   },
   "outputs": [],
   "source": [
    "#### Frequency Tables"
   ]
  },
  {
   "cell_type": "code",
   "execution_count": 47,
   "metadata": {
    "collapsed": false
   },
   "outputs": [
    {
     "name": "stdout",
     "output_type": "stream",
     "text": [
      "Strength     1   2  3\n",
      "Success              \n",
      "0         2807  98  2\n",
      "1           66  42  6\n"
     ]
    }
   ],
   "source": [
    "print pd.crosstab(df['Success'], df['Strength'], rownames=['Success'])"
   ]
  },
  {
   "cell_type": "code",
   "execution_count": 48,
   "metadata": {
    "collapsed": true
   },
   "outputs": [],
   "source": [
    "#### Dummy variables"
   ]
  },
  {
   "cell_type": "code",
   "execution_count": 49,
   "metadata": {
    "collapsed": false
   },
   "outputs": [
    {
     "name": "stdout",
     "output_type": "stream",
     "text": [
      "   Strength_1  Strength_2  Strength_3\n",
      "0         1.0         0.0         0.0\n",
      "1         1.0         0.0         0.0\n",
      "2         1.0         0.0         0.0\n",
      "3         1.0         0.0         0.0\n",
      "4         1.0         0.0         0.0\n"
     ]
    }
   ],
   "source": [
    "dummy_ranks = pd.get_dummies(df['Strength'], prefix='Strength')\n",
    "print dummy_ranks.head()"
   ]
  },
  {
   "cell_type": "code",
   "execution_count": 50,
   "metadata": {
    "collapsed": true
   },
   "outputs": [],
   "source": [
    "#### Odds Ratios"
   ]
  },
  {
   "cell_type": "code",
   "execution_count": 51,
   "metadata": {
    "collapsed": false
   },
   "outputs": [
    {
     "name": "stdout",
     "output_type": "stream",
     "text": [
      "   Success  Target_Raise  Total_Invested_Raised  Pre_Issue_Market_Cap  \\\n",
      "0        0        400000                 150000              10000000   \n",
      "1        0         50000                      0                     0   \n",
      "2        0       1500000                 485822               5000000   \n",
      "3        0        100000                      0                666000   \n",
      "4        0         10000                      0                     0   \n",
      "\n",
      "   Strength_3  \n",
      "0         0.0  \n",
      "1         0.0  \n",
      "2         0.0  \n",
      "3         0.0  \n",
      "4         0.0  \n"
     ]
    }
   ],
   "source": [
    "cols_to_keep = ['Success', 'Target_Raise', 'Total_Invested_Raised', 'Pre_Issue_Market_Cap']\n",
    "handCalc = df[cols_to_keep].join(dummy_ranks.ix[:, 'Strength_3':])\n",
    "print handCalc.head()"
   ]
  },
  {
   "cell_type": "code",
   "execution_count": 52,
   "metadata": {
    "collapsed": true
   },
   "outputs": [],
   "source": [
    "#### Crosstab Strength 3 Success"
   ]
  },
  {
   "cell_type": "code",
   "execution_count": 53,
   "metadata": {
    "collapsed": true
   },
   "outputs": [],
   "source": [
    "#### Frequency Table cutting Strength 3 and whether or not company was successful reaching target raise"
   ]
  },
  {
   "cell_type": "code",
   "execution_count": 54,
   "metadata": {
    "collapsed": false
   },
   "outputs": [
    {
     "name": "stdout",
     "output_type": "stream",
     "text": [
      "Strength_3   0.0  1.0\n",
      "Success              \n",
      "0           2905    2\n",
      "1            108    6\n"
     ]
    }
   ],
   "source": [
    "print pd.crosstab(handCalc['Success'], handCalc['Strength_3'], rownames=['Success'])"
   ]
  },
  {
   "cell_type": "code",
   "execution_count": 55,
   "metadata": {
    "collapsed": true
   },
   "outputs": [],
   "source": [
    "#### Odds of successfully reaching target raise if company used an industry leading platform"
   ]
  },
  {
   "cell_type": "code",
   "execution_count": 56,
   "metadata": {
    "collapsed": false
   },
   "outputs": [
    {
     "data": {
      "text/plain": [
       "3.0"
      ]
     },
     "execution_count": 56,
     "metadata": {},
     "output_type": "execute_result"
    }
   ],
   "source": [
    "odds_exposed = 6.0/2.0\n",
    "odds_exposed"
   ]
  },
  {
   "cell_type": "code",
   "execution_count": 57,
   "metadata": {
    "collapsed": true
   },
   "outputs": [],
   "source": [
    "#### Calculate odds of success if company used an industry leading platform"
   ]
  },
  {
   "cell_type": "code",
   "execution_count": 58,
   "metadata": {
    "collapsed": false
   },
   "outputs": [
    {
     "data": {
      "text/plain": [
       "0.03717728055077452"
      ]
     },
     "execution_count": 58,
     "metadata": {},
     "output_type": "execute_result"
    }
   ],
   "source": [
    "odd_unexp = 108.0/2905.0\n",
    "odd_unexp"
   ]
  },
  {
   "cell_type": "code",
   "execution_count": 59,
   "metadata": {
    "collapsed": true
   },
   "outputs": [],
   "source": [
    "#### Calcualte the odds ratio"
   ]
  },
  {
   "cell_type": "code",
   "execution_count": 60,
   "metadata": {
    "collapsed": false
   },
   "outputs": [
    {
     "data": {
      "text/plain": [
       "80.69444444444446"
      ]
     },
     "execution_count": 60,
     "metadata": {},
     "output_type": "execute_result"
    }
   ],
   "source": [
    "OR = odds_exposed/odd_unexp\n",
    "OR"
   ]
  },
  {
   "cell_type": "code",
   "execution_count": 61,
   "metadata": {
    "collapsed": true
   },
   "outputs": [],
   "source": [
    "#### For companies that used an industry leading platform (Strength_3) the odds of successfully reaching target raise are 80 times the odds of companies who did not use an industry leading platform"
   ]
  },
  {
   "cell_type": "code",
   "execution_count": 62,
   "metadata": {
    "collapsed": true
   },
   "outputs": [],
   "source": [
    "#### Frequency Tables"
   ]
  },
  {
   "cell_type": "code",
   "execution_count": 63,
   "metadata": {
    "collapsed": false
   },
   "outputs": [
    {
     "name": "stdout",
     "output_type": "stream",
     "text": [
      "Strength     1   2  3\n",
      "Success              \n",
      "0         2807  98  2\n",
      "1           66  42  6\n"
     ]
    }
   ],
   "source": [
    "print pd.crosstab(df['Success'], df['Strength'], rownames=['Success'])"
   ]
  },
  {
   "cell_type": "code",
   "execution_count": 64,
   "metadata": {
    "collapsed": true
   },
   "outputs": [],
   "source": [
    "#### Dummy variables"
   ]
  },
  {
   "cell_type": "code",
   "execution_count": 65,
   "metadata": {
    "collapsed": false
   },
   "outputs": [
    {
     "name": "stdout",
     "output_type": "stream",
     "text": [
      "   Strength_1  Strength_2  Strength_3\n",
      "0         1.0         0.0         0.0\n",
      "1         1.0         0.0         0.0\n",
      "2         1.0         0.0         0.0\n",
      "3         1.0         0.0         0.0\n",
      "4         1.0         0.0         0.0\n"
     ]
    }
   ],
   "source": [
    "dummy_ranks = pd.get_dummies(df['Strength'], prefix='Strength')\n",
    "print dummy_ranks.head()"
   ]
  },
  {
   "cell_type": "code",
   "execution_count": 66,
   "metadata": {
    "collapsed": true
   },
   "outputs": [],
   "source": [
    "#### Odds Ratios"
   ]
  },
  {
   "cell_type": "code",
   "execution_count": 67,
   "metadata": {
    "collapsed": false
   },
   "outputs": [
    {
     "name": "stdout",
     "output_type": "stream",
     "text": [
      "   Success  Target_Raise  Total_Invested_Raised  Pre_Issue_Market_Cap  \\\n",
      "0        0        400000                 150000              10000000   \n",
      "1        0         50000                      0                     0   \n",
      "2        0       1500000                 485822               5000000   \n",
      "3        0        100000                      0                666000   \n",
      "4        0         10000                      0                     0   \n",
      "\n",
      "   Strength_1  Strength_2  Strength_3  \n",
      "0         1.0         0.0         0.0  \n",
      "1         1.0         0.0         0.0  \n",
      "2         1.0         0.0         0.0  \n",
      "3         1.0         0.0         0.0  \n",
      "4         1.0         0.0         0.0  \n"
     ]
    }
   ],
   "source": [
    "cols_to_keep = ['Success', 'Target_Raise', 'Total_Invested_Raised', 'Pre_Issue_Market_Cap']\n",
    "handCalc = df[cols_to_keep].join(dummy_ranks.ix[:, 'Strength_1':])\n",
    "print handCalc.head()"
   ]
  },
  {
   "cell_type": "code",
   "execution_count": 68,
   "metadata": {
    "collapsed": true
   },
   "outputs": [],
   "source": [
    "#### Crosstab Strength 1 Success"
   ]
  },
  {
   "cell_type": "code",
   "execution_count": 69,
   "metadata": {
    "collapsed": true
   },
   "outputs": [],
   "source": [
    "#### Frequency Table cutting Strength 1 and whether or not company was successful reaching target raise"
   ]
  },
  {
   "cell_type": "code",
   "execution_count": 70,
   "metadata": {
    "collapsed": false
   },
   "outputs": [
    {
     "name": "stdout",
     "output_type": "stream",
     "text": [
      "Strength_1  0.0   1.0\n",
      "Success              \n",
      "0           100  2807\n",
      "1            48    66\n"
     ]
    }
   ],
   "source": [
    "print pd.crosstab(handCalc['Success'], handCalc['Strength_1'], rownames=['Success'])"
   ]
  },
  {
   "cell_type": "code",
   "execution_count": 71,
   "metadata": {
    "collapsed": true
   },
   "outputs": [],
   "source": [
    "#### Odds of successfully reaching target raise if company does not use an industry leading platform"
   ]
  },
  {
   "cell_type": "code",
   "execution_count": 72,
   "metadata": {
    "collapsed": false
   },
   "outputs": [
    {
     "name": "stdout",
     "output_type": "stream",
     "text": [
      "0.0489846811543\n"
     ]
    }
   ],
   "source": [
    "OR = (66.0*100.0)/(48*2807)\n",
    "print OR"
   ]
  },
  {
   "cell_type": "code",
   "execution_count": 73,
   "metadata": {
    "collapsed": false
   },
   "outputs": [
    {
     "name": "stdout",
     "output_type": "stream",
     "text": [
      "-0.9511\n"
     ]
    }
   ],
   "source": [
    "print .0489-1"
   ]
  },
  {
   "cell_type": "code",
   "execution_count": 74,
   "metadata": {
    "collapsed": true
   },
   "outputs": [],
   "source": [
    "#### The odds of successfully reaching target raise are 95% lower for companies who used a non-industry leading platform compared to companies who did not use a non-industry leading platform.  In other words, for companies who used a non-industry leading platform the odds of successfully reaching target raise are .0489 times the odds of companies who did not use a non-industry leading platform (Strength_1). "
   ]
  },
  {
   "cell_type": "code",
   "execution_count": 75,
   "metadata": {
    "collapsed": true
   },
   "outputs": [],
   "source": [
    "#### Create a clean data frame fro the regression"
   ]
  },
  {
   "cell_type": "code",
   "execution_count": 124,
   "metadata": {
    "collapsed": false
   },
   "outputs": [
    {
     "name": "stdout",
     "output_type": "stream",
     "text": [
      "   Success  Target_Raise  Pre_Issue_Market_Cap  Strength_2  Strength_3\n",
      "0        0        400000              10000000         0.0         0.0\n",
      "1        0         50000                     0         0.0         0.0\n",
      "2        0       1500000               5000000         0.0         0.0\n",
      "3        0        100000                666000         0.0         0.0\n",
      "4        0         10000                     0         0.0         0.0\n"
     ]
    }
   ],
   "source": [
    "cols_to_keep = ['Success', 'Target_Raise', 'Pre_Issue_Market_Cap']\n",
    "data = df[cols_to_keep].join(dummy_ranks.ix[:, 'Strength_2':])\n",
    "print data.head()"
   ]
  },
  {
   "cell_type": "code",
   "execution_count": 297,
   "metadata": {
    "collapsed": true
   },
   "outputs": [],
   "source": [
    "#### Manually add the intercept"
   ]
  },
  {
   "cell_type": "code",
   "execution_count": 125,
   "metadata": {
    "collapsed": false
   },
   "outputs": [],
   "source": [
    "data['intercept'] = 1.0"
   ]
  },
  {
   "cell_type": "code",
   "execution_count": 126,
   "metadata": {
    "collapsed": true
   },
   "outputs": [],
   "source": [
    "#### Set the covariates to a variable called train_cols"
   ]
  },
  {
   "cell_type": "code",
   "execution_count": 128,
   "metadata": {
    "collapsed": true
   },
   "outputs": [],
   "source": [
    "train_cols = data.columns[1:]"
   ]
  },
  {
   "cell_type": "code",
   "execution_count": 301,
   "metadata": {
    "collapsed": true
   },
   "outputs": [],
   "source": [
    "#### Fit the model"
   ]
  },
  {
   "cell_type": "code",
   "execution_count": 129,
   "metadata": {
    "collapsed": false
   },
   "outputs": [
    {
     "name": "stdout",
     "output_type": "stream",
     "text": [
      "Optimization terminated successfully.\n",
      "         Current function value: 0.133749\n",
      "         Iterations 10\n"
     ]
    }
   ],
   "source": [
    "logit = sm.Logit(data['Success'], data[train_cols])\n",
    "result = logit.fit()"
   ]
  },
  {
   "cell_type": "code",
   "execution_count": 130,
   "metadata": {
    "collapsed": false
   },
   "outputs": [
    {
     "name": "stdout",
     "output_type": "stream",
     "text": [
      "                           Logit Regression Results                           \n",
      "==============================================================================\n",
      "Dep. Variable:                Success   No. Observations:                 3021\n",
      "Model:                          Logit   Df Residuals:                     3016\n",
      "Method:                           MLE   Df Model:                            4\n",
      "Date:                Tue, 09 Aug 2016   Pseudo R-squ.:                  0.1676\n",
      "Time:                        20:22:39   Log-Likelihood:                -404.06\n",
      "converged:                       True   LL-Null:                       -485.42\n",
      "                                        LLR p-value:                 3.813e-34\n",
      "========================================================================================\n",
      "                           coef    std err          z      P>|z|      [95.0% Conf. Int.]\n",
      "----------------------------------------------------------------------------------------\n",
      "Target_Raise         -1.541e-08   3.19e-08     -0.483      0.629     -7.79e-08  4.71e-08\n",
      "Pre_Issue_Market_Cap  4.712e-10   1.95e-09      0.241      0.809     -3.35e-09   4.3e-09\n",
      "Strength_2               2.8871      0.225     12.856      0.000         2.447     3.327\n",
      "Strength_3               4.8495      0.826      5.871      0.000         3.231     6.468\n",
      "intercept               -3.7289      0.131    -28.406      0.000        -3.986    -3.472\n",
      "========================================================================================\n"
     ]
    }
   ],
   "source": [
    "print result.summary()"
   ]
  },
  {
   "cell_type": "code",
   "execution_count": null,
   "metadata": {
    "collapsed": true
   },
   "outputs": [],
   "source": [
    "#### Calculate the odds ratio of the coefficients and their 95% CI intervals"
   ]
  },
  {
   "cell_type": "code",
   "execution_count": 131,
   "metadata": {
    "collapsed": false
   },
   "outputs": [
    {
     "name": "stdout",
     "output_type": "stream",
     "text": [
      "Target_Raise              1.000000\n",
      "Pre_Issue_Market_Cap      1.000000\n",
      "Strength_2               17.941354\n",
      "Strength_3              127.674920\n",
      "intercept                 0.024020\n",
      "dtype: float64\n"
     ]
    }
   ],
   "source": [
    "print np.exp(result.params)"
   ]
  },
  {
   "cell_type": "code",
   "execution_count": 132,
   "metadata": {
    "collapsed": false
   },
   "outputs": [
    {
     "name": "stdout",
     "output_type": "stream",
     "text": [
      "                            2.5        97.5          OR\n",
      "Target_Raise           1.000000    1.000000    1.000000\n",
      "Pre_Issue_Market_Cap   1.000000    1.000000    1.000000\n",
      "Strength_2            11.553183   27.861773   17.941354\n",
      "Strength_3            25.292871  644.485371  127.674920\n",
      "intercept              0.018571    0.031068    0.024020\n"
     ]
    }
   ],
   "source": [
    "params = result.params\n",
    "conf = result.conf_int()\n",
    "conf['OR'] = params\n",
    "conf.columns = ['2.5', '97.5', 'OR']\n",
    "print np.exp(conf)"
   ]
  },
  {
   "cell_type": "code",
   "execution_count": null,
   "metadata": {
    "collapsed": true
   },
   "outputs": [],
   "source": [
    "#### Companies who used an average platform (Strength_2) had 18 times the odds of successfully reaching target raise compared to companies who used a non-industry leading platform (Strength_1). "
   ]
  },
  {
   "cell_type": "code",
   "execution_count": 143,
   "metadata": {
    "collapsed": true
   },
   "outputs": [],
   "source": [
    "def cartesian(arrays, out=None):\n",
    "    \"\"\"\n",
    "    Generate a cartesian product of input arrays.\n",
    "    Parameters\n",
    "    ----------\n",
    "    arrays : list of array-like\n",
    "        1-D arrays to form the cartesian product of.\n",
    "    out : ndarray\n",
    "        Array to place the cartesian product in.\n",
    "    Returns\n",
    "    -------\n",
    "    out : ndarray\n",
    "        2-D array of shape (M, len(arrays)) containing cartesian products\n",
    "        formed of input arrays.\n",
    "    Examples\n",
    "    --------\n",
    "    >>> cartesian(([1, 2, 3], [4, 5], [6, 7]))\n",
    "    array([[1, 4, 6],\n",
    "           [1, 4, 7],\n",
    "           [1, 5, 6],\n",
    "           [1, 5, 7],\n",
    "           [2, 4, 6],\n",
    "           [2, 4, 7],\n",
    "           [2, 5, 6],\n",
    "           [2, 5, 7],\n",
    "           [3, 4, 6],\n",
    "           [3, 4, 7],\n",
    "           [3, 5, 6],\n",
    "           [3, 5, 7]])\n",
    "    \"\"\"\n",
    "\n",
    "    arrays = [np.asarray(x) for x in arrays]\n",
    "    dtype = arrays[0].dtype\n",
    "\n",
    "    n = np.prod([x.size for x in arrays])\n",
    "    if out is None:\n",
    "        out = np.zeros([n, len(arrays)], dtype=dtype)\n",
    "\n",
    "    m = n / arrays[0].size\n",
    "    out[:,0] = np.repeat(arrays[0], m)\n",
    "    if arrays[1:]:\n",
    "        cartesian(arrays[1:], out=out[0:m,1:])\n",
    "        for j in xrange(1, arrays[0].size):\n",
    "            out[j*m:(j+1)*m,1:] = out[0:m,1:]\n",
    "    return out"
   ]
  },
  {
   "cell_type": "code",
   "execution_count": 144,
   "metadata": {
    "collapsed": false
   },
   "outputs": [
    {
     "name": "stdout",
     "output_type": "stream",
     "text": [
      "[  0.00000000e+00   2.38888889e+08   4.77777778e+08   7.16666667e+08\n",
      "   9.55555556e+08   1.19444444e+09   1.43333333e+09   1.67222222e+09\n",
      "   1.91111111e+09   2.15000000e+09]\n",
      "[  0.00000000e+00   2.38609294e+08   4.77218588e+08   7.15827882e+08\n",
      "   9.54437176e+08   1.19304647e+09   1.43165576e+09   1.67026506e+09\n",
      "   1.90887435e+09   2.14748365e+09]\n"
     ]
    }
   ],
   "source": [
    "# instead of generating all possible values of Target_Raise, we're going\n",
    "# to use an evenly spaced range of 10 values from the min to the max \n",
    "Target_Raises = np.linspace(data['Target_Raise'].min(), data['Target_Raise'].max(), 10)\n",
    "print Target_Raises\n",
    "Pre_Issue_Market_Caps = np.linspace(data['Pre_Issue_Market_Cap'].min(), data['Pre_Issue_Market_Cap'].max(), 10)\n",
    "print Pre_Issue_Market_Caps\n",
    "combos = pd.DataFrame(cartesian([Target_Raises, Pre_Issue_Market_Caps, [1000000, 2000000, 3000000, 4000000], [1000000.]]))"
   ]
  },
  {
   "cell_type": "code",
   "execution_count": 145,
   "metadata": {
    "collapsed": true
   },
   "outputs": [],
   "source": [
    "# Recreate the dummy variables and keep only what we need for making predictions"
   ]
  },
  {
   "cell_type": "code",
   "execution_count": 146,
   "metadata": {
    "collapsed": false
   },
   "outputs": [],
   "source": [
    "combos.columns = ['Target_Raise', 'Pre_Issue_Market_Cap', 'Strength', 'intercept']\n",
    "dummy_ranks = pd.get_dummies(combos['Strength'], prefix='Strength')\n",
    "dummy_ranks.columns = ['Strength_1', 'Strength_2', 'Strength_3', 'Strength_4']\n",
    "cols_to_keep = ['Target_Raise', 'Pre_Issue_Market_Cap', 'Strength', 'intercept']\n",
    "combos = combos[cols_to_keep].join(dummy_ranks.ix[:, 'Strength_2':])"
   ]
  },
  {
   "cell_type": "code",
   "execution_count": 147,
   "metadata": {
    "collapsed": true
   },
   "outputs": [],
   "source": [
    "#### Make predictions on the enumerated dataset"
   ]
  },
  {
   "cell_type": "code",
   "execution_count": 167,
   "metadata": {
    "collapsed": false
   },
   "outputs": [
    {
     "name": "stdout",
     "output_type": "stream",
     "text": [
      "     Target_Raise  Pre_Issue_Market_Cap   Strength  intercept  Strength_2  \\\n",
      "395  2.150000e+09          1.908874e+09  4000000.0  1000000.0         0.0   \n",
      "396  2.150000e+09          2.147484e+09  1000000.0  1000000.0         0.0   \n",
      "397  2.150000e+09          2.147484e+09  2000000.0  1000000.0         1.0   \n",
      "398  2.150000e+09          2.147484e+09  3000000.0  1000000.0         0.0   \n",
      "399  2.150000e+09          2.147484e+09  4000000.0  1000000.0         0.0   \n",
      "\n",
      "     Strength_3  Strength_4  Success_pred  \n",
      "395         0.0         1.0           0.0  \n",
      "396         0.0         0.0           0.0  \n",
      "397         0.0         0.0           0.0  \n",
      "398         1.0         0.0           0.0  \n",
      "399         0.0         1.0           0.0  \n"
     ]
    },
    {
     "data": {
      "text/plain": [
       "400"
      ]
     },
     "execution_count": 167,
     "metadata": {},
     "output_type": "execute_result"
    }
   ],
   "source": [
    "combos['Success_pred'] = result.predict(combos[train_cols])\n",
    "print combos.tail()\n",
    "len(combos)"
   ]
  },
  {
   "cell_type": "code",
   "execution_count": 168,
   "metadata": {
    "collapsed": true
   },
   "outputs": [],
   "source": [
    "def isolate_and_plot(variable):\n",
    "    # isolate Target_Raise and Strength\n",
    "    grouped = pd.pivot_table(combos, values=['Success_pred'], index=[variable, 'Strength'],\n",
    "    aggfunc=np.mean)"
   ]
  },
  {
   "cell_type": "code",
   "execution_count": 169,
   "metadata": {
    "collapsed": false
   },
   "outputs": [
    {
     "ename": "NameError",
     "evalue": "name 'grouped' is not defined",
     "output_type": "error",
     "traceback": [
      "\u001b[1;31m---------------------------------------------------------------------------\u001b[0m",
      "\u001b[1;31mNameError\u001b[0m                                 Traceback (most recent call last)",
      "\u001b[1;32m<ipython-input-169-b74ce63b39dd>\u001b[0m in \u001b[0;36m<module>\u001b[1;34m()\u001b[0m\n\u001b[1;32m----> 1\u001b[1;33m \u001b[1;32mprint\u001b[0m \u001b[0mgrouped\u001b[0m\u001b[1;33m.\u001b[0m\u001b[0mhead\u001b[0m\u001b[1;33m(\u001b[0m\u001b[1;33m)\u001b[0m\u001b[1;33m\u001b[0m\u001b[0m\n\u001b[0m",
      "\u001b[1;31mNameError\u001b[0m: name 'grouped' is not defined"
     ]
    }
   ],
   "source": [
    "print grouped.head()"
   ]
  },
  {
   "cell_type": "code",
   "execution_count": null,
   "metadata": {
    "collapsed": true
   },
   "outputs": [],
   "source": [
    "#### Make a plot"
   ]
  },
  {
   "cell_type": "code",
   "execution_count": 161,
   "metadata": {
    "collapsed": false
   },
   "outputs": [
    {
     "ename": "NameError",
     "evalue": "name 'grouped' is not defined",
     "output_type": "error",
     "traceback": [
      "\u001b[1;31m---------------------------------------------------------------------------\u001b[0m",
      "\u001b[1;31mNameError\u001b[0m                                 Traceback (most recent call last)",
      "\u001b[1;32m<ipython-input-161-6de131a981c7>\u001b[0m in \u001b[0;36m<module>\u001b[1;34m()\u001b[0m\n\u001b[0;32m      1\u001b[0m \u001b[0mcolors\u001b[0m \u001b[1;33m=\u001b[0m \u001b[1;34m'rbgyrbgy'\u001b[0m\u001b[1;33m\u001b[0m\u001b[0m\n\u001b[0;32m      2\u001b[0m \u001b[1;32mfor\u001b[0m \u001b[0mcol\u001b[0m \u001b[1;32min\u001b[0m \u001b[0mcombos\u001b[0m\u001b[1;33m.\u001b[0m\u001b[0mStrength\u001b[0m\u001b[1;33m.\u001b[0m\u001b[0munique\u001b[0m\u001b[1;33m(\u001b[0m\u001b[1;33m)\u001b[0m\u001b[1;33m:\u001b[0m\u001b[1;33m\u001b[0m\u001b[0m\n\u001b[1;32m----> 3\u001b[1;33m     \u001b[0mplt_data\u001b[0m \u001b[1;33m=\u001b[0m \u001b[0mgrouped\u001b[0m\u001b[1;33m.\u001b[0m\u001b[0mix\u001b[0m\u001b[1;33m[\u001b[0m\u001b[0mgrouped\u001b[0m\u001b[1;33m.\u001b[0m\u001b[0mindex\u001b[0m\u001b[1;33m.\u001b[0m\u001b[0mget_level_values\u001b[0m\u001b[1;33m(\u001b[0m\u001b[1;36m1\u001b[0m\u001b[1;33m)\u001b[0m\u001b[1;33m==\u001b[0m\u001b[0mcol\u001b[0m\u001b[1;33m]\u001b[0m\u001b[1;33m\u001b[0m\u001b[0m\n\u001b[0m\u001b[0;32m      4\u001b[0m     pl.plot(plt_data.index.get_level_values(0), plt_data['Success_pred'],\n\u001b[0;32m      5\u001b[0m             color=colors[int(col)])\n",
      "\u001b[1;31mNameError\u001b[0m: name 'grouped' is not defined"
     ]
    }
   ],
   "source": [
    "colors = 'rbgyrbgy'\n",
    "for col in combos.Strength.unique():\n",
    "    plt_data = grouped.ix[grouped.index.get_level_values(1)==col]\n",
    "    pl.plot(plt_data.index.get_level_values(0), plt_data['Success_pred'],\n",
    "            color=colors[int(col)])\n",
    "    \n",
    "pl.xlabel(variable)\n",
    "pl.ylabel(\"P(Success=1)\")\n",
    "pl.legend(['1', '2', '3', '4'], loc='upper left', title='Strength')\n",
    "pl.title(\"Prob(Success=1) isolating \" + variable + \" and Strength\")\n",
    "pl.show()\n",
    "\n",
    "isolate_and_plot('Target_Raise')\n",
    "isolate_and_plot('Pre_Issue_Market_Cap')"
   ]
  }
 ],
 "metadata": {
  "kernelspec": {
   "display_name": "Python 2",
   "language": "python",
   "name": "python2"
  },
  "language_info": {
   "codemirror_mode": {
    "name": "ipython",
    "version": 2
   },
   "file_extension": ".py",
   "mimetype": "text/x-python",
   "name": "python",
   "nbconvert_exporter": "python",
   "pygments_lexer": "ipython2",
   "version": "2.7.11"
  }
 },
 "nbformat": 4,
 "nbformat_minor": 0
}
