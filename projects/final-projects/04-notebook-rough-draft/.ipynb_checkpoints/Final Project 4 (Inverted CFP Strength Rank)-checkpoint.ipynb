{
 "cells": [
  {
   "cell_type": "code",
   "execution_count": 107,
   "metadata": {
    "collapsed": true
   },
   "outputs": [],
   "source": [
    "%matplotlib inline\n",
    "import matplotlib.pyplot as plt\n",
    "import pandas as pd\n",
    "import statsmodels.api as sm\n",
    "import pylab as pl\n",
    "import numpy as np\n",
    "from sklearn.linear_model import LogisticRegression"
   ]
  },
  {
   "cell_type": "code",
   "execution_count": 108,
   "metadata": {
    "collapsed": false
   },
   "outputs": [
    {
     "name": "stdout",
     "output_type": "stream",
     "text": [
      "   Success  CFP_Strength  Security_Type_Class  Gender  Target_Raise  \\\n",
      "0        0             3                    3       0        400000   \n",
      "1        0             3                    3       1         50000   \n",
      "2        0             3                    1       0       1500000   \n",
      "3        0             3                    3       1        100000   \n",
      "4        0             3                    3       0         10000   \n",
      "\n",
      "   Total_Raised  Pre_Issue_Market_Cap  \n",
      "0        150000              10000000  \n",
      "1             0                     0  \n",
      "2        485822               5000000  \n",
      "3             0                666000  \n",
      "4             0                     0  \n"
     ]
    }
   ],
   "source": [
    "#### Read in dataset from source\n",
    "lm = LogisticRegression()\n",
    "df = pd.read_csv(\"icrowdfundingdatafinal.csv\")\n",
    "print df.head()"
   ]
  },
  {
   "cell_type": "code",
   "execution_count": 109,
   "metadata": {
    "collapsed": true
   },
   "outputs": [],
   "source": [
    "#### Data Dictionary:"
   ]
  },
  {
   "cell_type": "code",
   "execution_count": 110,
   "metadata": {
    "collapsed": true
   },
   "outputs": [],
   "source": [
    "#### Variable"
   ]
  },
  {
   "cell_type": "code",
   "execution_count": 111,
   "metadata": {
    "collapsed": true
   },
   "outputs": [],
   "source": [
    "#### Success"
   ]
  },
  {
   "cell_type": "code",
   "execution_count": 112,
   "metadata": {
    "collapsed": true
   },
   "outputs": [],
   "source": [
    "#### Description Success Reaching Target Raise - 0 = not successful 1 = successful"
   ]
  },
  {
   "cell_type": "code",
   "execution_count": 113,
   "metadata": {
    "collapsed": true
   },
   "outputs": [],
   "source": [
    "#### Type of Variable - Categorical"
   ]
  },
  {
   "cell_type": "code",
   "execution_count": 114,
   "metadata": {
    "collapsed": true
   },
   "outputs": [],
   "source": [
    "#### Variable"
   ]
  },
  {
   "cell_type": "code",
   "execution_count": 115,
   "metadata": {
    "collapsed": true
   },
   "outputs": [],
   "source": [
    "#### CFP_Strength"
   ]
  },
  {
   "cell_type": "code",
   "execution_count": 116,
   "metadata": {
    "collapsed": true
   },
   "outputs": [],
   "source": [
    "#### Description Industry Leading Portal - 1 = high strength 2 = good strength 3 = low strength 4 = no strength"
   ]
  },
  {
   "cell_type": "code",
   "execution_count": 117,
   "metadata": {
    "collapsed": true
   },
   "outputs": [],
   "source": [
    "#### Type of Variable - Categorical"
   ]
  },
  {
   "cell_type": "code",
   "execution_count": 118,
   "metadata": {
    "collapsed": true
   },
   "outputs": [],
   "source": [
    "#### Variable"
   ]
  },
  {
   "cell_type": "code",
   "execution_count": 119,
   "metadata": {
    "collapsed": true
   },
   "outputs": [],
   "source": [
    "#### Security_Type_Class"
   ]
  },
  {
   "cell_type": "code",
   "execution_count": 120,
   "metadata": {
    "collapsed": true
   },
   "outputs": [],
   "source": [
    "#### Description Security Type Category - 1 = Convertible Debt 2 = Debt 3 = Equity 4 = Real Estate 5 = Revenue Share / Royalty 6 = Safe "
   ]
  },
  {
   "cell_type": "code",
   "execution_count": 121,
   "metadata": {
    "collapsed": true
   },
   "outputs": [],
   "source": [
    "#### Type of Variable - Categorical"
   ]
  },
  {
   "cell_type": "code",
   "execution_count": 122,
   "metadata": {
    "collapsed": true
   },
   "outputs": [],
   "source": [
    "#### Variable"
   ]
  },
  {
   "cell_type": "code",
   "execution_count": 123,
   "metadata": {
    "collapsed": true
   },
   "outputs": [],
   "source": [
    "#### Gender"
   ]
  },
  {
   "cell_type": "code",
   "execution_count": 124,
   "metadata": {
    "collapsed": true
   },
   "outputs": [],
   "source": [
    "#### Description Women_Led_PIPR / Deal - 1 = female 0 = male"
   ]
  },
  {
   "cell_type": "code",
   "execution_count": 125,
   "metadata": {
    "collapsed": true
   },
   "outputs": [],
   "source": [
    "#### Type of Variable - Categorical"
   ]
  },
  {
   "cell_type": "code",
   "execution_count": 126,
   "metadata": {
    "collapsed": true
   },
   "outputs": [],
   "source": [
    "#### Variable"
   ]
  },
  {
   "cell_type": "code",
   "execution_count": 127,
   "metadata": {
    "collapsed": true
   },
   "outputs": [],
   "source": [
    "#### Target_Raise"
   ]
  },
  {
   "cell_type": "code",
   "execution_count": 128,
   "metadata": {
    "collapsed": true
   },
   "outputs": [],
   "source": [
    "#### Description Investment Crowdfunding Target Raise"
   ]
  },
  {
   "cell_type": "code",
   "execution_count": 129,
   "metadata": {
    "collapsed": true
   },
   "outputs": [],
   "source": [
    "#### Type of Variable - Continuous"
   ]
  },
  {
   "cell_type": "code",
   "execution_count": 130,
   "metadata": {
    "collapsed": true
   },
   "outputs": [],
   "source": [
    "#### Variable"
   ]
  },
  {
   "cell_type": "code",
   "execution_count": 131,
   "metadata": {
    "collapsed": true
   },
   "outputs": [],
   "source": [
    "#### Total_Raised"
   ]
  },
  {
   "cell_type": "code",
   "execution_count": 132,
   "metadata": {
    "collapsed": true
   },
   "outputs": [],
   "source": [
    "#### Description Investment Crowdfunding Total Raised"
   ]
  },
  {
   "cell_type": "code",
   "execution_count": 133,
   "metadata": {
    "collapsed": true
   },
   "outputs": [],
   "source": [
    "#### Type of Variable - Continuous"
   ]
  },
  {
   "cell_type": "code",
   "execution_count": 134,
   "metadata": {
    "collapsed": true
   },
   "outputs": [],
   "source": [
    "#### Variable"
   ]
  },
  {
   "cell_type": "code",
   "execution_count": 135,
   "metadata": {
    "collapsed": true
   },
   "outputs": [],
   "source": [
    "#### Pre_Issue_Market_Cap"
   ]
  },
  {
   "cell_type": "code",
   "execution_count": 136,
   "metadata": {
    "collapsed": true
   },
   "outputs": [],
   "source": [
    "#### Description Investment Pre Issue Market Cap"
   ]
  },
  {
   "cell_type": "code",
   "execution_count": 137,
   "metadata": {
    "collapsed": true
   },
   "outputs": [],
   "source": [
    "#### Type of Variable - Continuous"
   ]
  },
  {
   "cell_type": "code",
   "execution_count": 138,
   "metadata": {
    "collapsed": true
   },
   "outputs": [],
   "source": [
    "#### Exploratory Analysis:"
   ]
  },
  {
   "cell_type": "code",
   "execution_count": 139,
   "metadata": {
    "collapsed": false
   },
   "outputs": [
    {
     "data": {
      "text/plain": [
       "0    2906\n",
       "1     114\n",
       "Name: Success, dtype: int64"
      ]
     },
     "execution_count": 139,
     "metadata": {},
     "output_type": "execute_result"
    }
   ],
   "source": [
    "#### Overall Crowdfunding Success\n",
    "df.Success.value_counts()"
   ]
  },
  {
   "cell_type": "code",
   "execution_count": 140,
   "metadata": {
    "collapsed": false
   },
   "outputs": [
    {
     "data": {
      "text/plain": [
       "0.03774834437086093"
      ]
     },
     "execution_count": 140,
     "metadata": {},
     "output_type": "execute_result"
    }
   ],
   "source": [
    "114/(114.0+2906.0)"
   ]
  },
  {
   "cell_type": "code",
   "execution_count": 141,
   "metadata": {
    "collapsed": true
   },
   "outputs": [],
   "source": [
    "#### EDA of continuous values in dataset"
   ]
  },
  {
   "cell_type": "code",
   "execution_count": 142,
   "metadata": {
    "collapsed": false
   },
   "outputs": [
    {
     "data": {
      "text/html": [
       "<div>\n",
       "<table border=\"1\" class=\"dataframe\">\n",
       "  <thead>\n",
       "    <tr style=\"text-align: right;\">\n",
       "      <th></th>\n",
       "      <th>Success</th>\n",
       "      <th>CFP_Strength</th>\n",
       "      <th>Security_Type_Class</th>\n",
       "      <th>Gender</th>\n",
       "      <th>Target_Raise</th>\n",
       "      <th>Total_Raised</th>\n",
       "      <th>Pre_Issue_Market_Cap</th>\n",
       "    </tr>\n",
       "  </thead>\n",
       "  <tbody>\n",
       "    <tr>\n",
       "      <th>count</th>\n",
       "      <td>3020.000000</td>\n",
       "      <td>3020.000000</td>\n",
       "      <td>3020.000000</td>\n",
       "      <td>3020.000000</td>\n",
       "      <td>3.020000e+03</td>\n",
       "      <td>3.020000e+03</td>\n",
       "      <td>3.020000e+03</td>\n",
       "    </tr>\n",
       "    <tr>\n",
       "      <th>mean</th>\n",
       "      <td>0.037748</td>\n",
       "      <td>2.948675</td>\n",
       "      <td>2.457947</td>\n",
       "      <td>0.207616</td>\n",
       "      <td>2.590084e+06</td>\n",
       "      <td>2.485364e+05</td>\n",
       "      <td>3.664900e+06</td>\n",
       "    </tr>\n",
       "    <tr>\n",
       "      <th>std</th>\n",
       "      <td>0.190619</td>\n",
       "      <td>0.232392</td>\n",
       "      <td>0.929737</td>\n",
       "      <td>0.405667</td>\n",
       "      <td>4.103632e+07</td>\n",
       "      <td>1.268762e+06</td>\n",
       "      <td>4.202616e+07</td>\n",
       "    </tr>\n",
       "    <tr>\n",
       "      <th>min</th>\n",
       "      <td>0.000000</td>\n",
       "      <td>1.000000</td>\n",
       "      <td>1.000000</td>\n",
       "      <td>0.000000</td>\n",
       "      <td>0.000000e+00</td>\n",
       "      <td>0.000000e+00</td>\n",
       "      <td>0.000000e+00</td>\n",
       "    </tr>\n",
       "    <tr>\n",
       "      <th>25%</th>\n",
       "      <td>0.000000</td>\n",
       "      <td>3.000000</td>\n",
       "      <td>1.000000</td>\n",
       "      <td>0.000000</td>\n",
       "      <td>2.500000e+05</td>\n",
       "      <td>0.000000e+00</td>\n",
       "      <td>0.000000e+00</td>\n",
       "    </tr>\n",
       "    <tr>\n",
       "      <th>50%</th>\n",
       "      <td>0.000000</td>\n",
       "      <td>3.000000</td>\n",
       "      <td>3.000000</td>\n",
       "      <td>0.000000</td>\n",
       "      <td>5.000000e+05</td>\n",
       "      <td>0.000000e+00</td>\n",
       "      <td>0.000000e+00</td>\n",
       "    </tr>\n",
       "    <tr>\n",
       "      <th>75%</th>\n",
       "      <td>0.000000</td>\n",
       "      <td>3.000000</td>\n",
       "      <td>3.000000</td>\n",
       "      <td>0.000000</td>\n",
       "      <td>1.000000e+06</td>\n",
       "      <td>1.100000e+05</td>\n",
       "      <td>3.000000e+06</td>\n",
       "    </tr>\n",
       "    <tr>\n",
       "      <th>max</th>\n",
       "      <td>1.000000</td>\n",
       "      <td>3.000000</td>\n",
       "      <td>6.000000</td>\n",
       "      <td>1.000000</td>\n",
       "      <td>2.150000e+09</td>\n",
       "      <td>3.800000e+07</td>\n",
       "      <td>2.147484e+09</td>\n",
       "    </tr>\n",
       "  </tbody>\n",
       "</table>\n",
       "</div>"
      ],
      "text/plain": [
       "           Success  CFP_Strength  Security_Type_Class       Gender  \\\n",
       "count  3020.000000   3020.000000          3020.000000  3020.000000   \n",
       "mean      0.037748      2.948675             2.457947     0.207616   \n",
       "std       0.190619      0.232392             0.929737     0.405667   \n",
       "min       0.000000      1.000000             1.000000     0.000000   \n",
       "25%       0.000000      3.000000             1.000000     0.000000   \n",
       "50%       0.000000      3.000000             3.000000     0.000000   \n",
       "75%       0.000000      3.000000             3.000000     0.000000   \n",
       "max       1.000000      3.000000             6.000000     1.000000   \n",
       "\n",
       "       Target_Raise  Total_Raised  Pre_Issue_Market_Cap  \n",
       "count  3.020000e+03  3.020000e+03          3.020000e+03  \n",
       "mean   2.590084e+06  2.485364e+05          3.664900e+06  \n",
       "std    4.103632e+07  1.268762e+06          4.202616e+07  \n",
       "min    0.000000e+00  0.000000e+00          0.000000e+00  \n",
       "25%    2.500000e+05  0.000000e+00          0.000000e+00  \n",
       "50%    5.000000e+05  0.000000e+00          0.000000e+00  \n",
       "75%    1.000000e+06  1.100000e+05          3.000000e+06  \n",
       "max    2.150000e+09  3.800000e+07          2.147484e+09  "
      ]
     },
     "execution_count": 142,
     "metadata": {},
     "output_type": "execute_result"
    }
   ],
   "source": [
    "df.describe()"
   ]
  },
  {
   "cell_type": "code",
   "execution_count": 143,
   "metadata": {
    "collapsed": true
   },
   "outputs": [],
   "source": [
    "#### Distribution of each variable"
   ]
  },
  {
   "cell_type": "code",
   "execution_count": 144,
   "metadata": {
    "collapsed": false
   },
   "outputs": [
    {
     "data": {
      "image/png": "[encoded data removed]",
      "text/plain": [
       "<matplotlib.figure.Figure at 0xacec128>"
      ]
     },
     "metadata": {},
     "output_type": "display_data"
    }
   ],
   "source": [
    "df['Success'].hist()\n",
    "pl.show()"
   ]
  },
  {
   "cell_type": "code",
   "execution_count": 145,
   "metadata": {
    "collapsed": false
   },
   "outputs": [
    {
     "data": {
      "image/png": "[encoded data removed]",
      "text/plain": [
       "<matplotlib.figure.Figure at 0xc6ea048>"
      ]
     },
     "metadata": {},
     "output_type": "display_data"
    }
   ],
   "source": [
    "df['CFP_Strength'].hist()\n",
    "pl.show()"
   ]
  },
  {
   "cell_type": "code",
   "execution_count": 146,
   "metadata": {
    "collapsed": false
   },
   "outputs": [
    {
     "data": {
      "text/plain": [
       "<matplotlib.axes._subplots.AxesSubplot at 0xc9e9e80>"
      ]
     },
     "execution_count": 146,
     "metadata": {},
     "output_type": "execute_result"
    },
    {
     "data": {
      "image/png": "[encoded data removed]",
      "text/plain": [
       "<matplotlib.figure.Figure at 0xc948358>"
      ]
     },
     "metadata": {},
     "output_type": "display_data"
    }
   ],
   "source": [
    "df.CFP_Strength.value_counts().plot(kind='box')"
   ]
  },
  {
   "cell_type": "code",
   "execution_count": 147,
   "metadata": {
    "collapsed": false
   },
   "outputs": [
    {
     "data": {
      "text/plain": [
       "<matplotlib.axes._subplots.AxesSubplot at 0xcab35f8>"
      ]
     },
     "execution_count": 147,
     "metadata": {},
     "output_type": "execute_result"
    },
    {
     "data": {
      "image/png": "[encoded data removed]",
      "text/plain": [
       "<matplotlib.figure.Figure at 0xca77780>"
      ]
     },
     "metadata": {},
     "output_type": "display_data"
    }
   ],
   "source": [
    "df.Security_Type_Class.value_counts().plot(kind='bar')"
   ]
  },
  {
   "cell_type": "code",
   "execution_count": 148,
   "metadata": {
    "collapsed": false
   },
   "outputs": [
    {
     "data": {
      "text/plain": [
       "<matplotlib.axes._subplots.AxesSubplot at 0xc720198>"
      ]
     },
     "execution_count": 148,
     "metadata": {},
     "output_type": "execute_result"
    },
    {
     "data": {
      "image/png": "[encoded data removed]",
      "text/plain": [
       "<matplotlib.figure.Figure at 0xc71a860>"
      ]
     },
     "metadata": {},
     "output_type": "display_data"
    }
   ],
   "source": [
    "df.Gender.value_counts().plot(kind='barh')"
   ]
  },
  {
   "cell_type": "code",
   "execution_count": 149,
   "metadata": {
    "collapsed": false
   },
   "outputs": [
    {
     "data": {
      "text/plain": [
       "<matplotlib.axes._subplots.AxesSubplot at 0xc295e48>"
      ]
     },
     "execution_count": 149,
     "metadata": {},
     "output_type": "execute_result"
    },
    {
     "data": {
      "image/png": "[encoded data removed]",
      "text/plain": [
       "<matplotlib.figure.Figure at 0xc3b8a20>"
      ]
     },
     "metadata": {},
     "output_type": "display_data"
    }
   ],
   "source": [
    "fig, axs = plt.subplots(1,2)\n",
    "df[df.Gender==1].Success.value_counts().plot(kind='barh' ,ax=axs[0], title=\"Female Success\")\n",
    "df[df.Gender==0].Success.value_counts().plot(kind='barh' ,ax=axs[1], title=\"Male Success\")"
   ]
  },
  {
   "cell_type": "code",
   "execution_count": 150,
   "metadata": {
    "collapsed": false,
    "scrolled": true
   },
   "outputs": [
    {
     "data": {
      "text/plain": [
       "<matplotlib.axes._subplots.AxesSubplot at 0xacecf60>"
      ]
     },
     "execution_count": 150,
     "metadata": {},
     "output_type": "execute_result"
    },
    {
     "data": {
      "image/png": "[encoded data removed]",
      "text/plain": [
       "<matplotlib.figure.Figure at 0xc78e7f0>"
      ]
     },
     "metadata": {},
     "output_type": "display_data"
    }
   ],
   "source": [
    "df['Target_Raise'].plot(kind='box')"
   ]
  },
  {
   "cell_type": "code",
   "execution_count": 151,
   "metadata": {
    "collapsed": false
   },
   "outputs": [
    {
     "data": {
      "text/plain": [
       "<matplotlib.axes._subplots.AxesSubplot at 0xd5c7668>"
      ]
     },
     "execution_count": 151,
     "metadata": {},
     "output_type": "execute_result"
    },
    {
     "data": {
      "image/png": "[encoded data removed]",
      "text/plain": [
       "<matplotlib.figure.Figure at 0xd7873c8>"
      ]
     },
     "metadata": {},
     "output_type": "display_data"
    }
   ],
   "source": [
    "df['Total_Raised'].plot(kind='box')"
   ]
  },
  {
   "cell_type": "code",
   "execution_count": 152,
   "metadata": {
    "collapsed": false
   },
   "outputs": [
    {
     "data": {
      "text/plain": [
       "<matplotlib.axes._subplots.AxesSubplot at 0xd8c8f98>"
      ]
     },
     "execution_count": 152,
     "metadata": {},
     "output_type": "execute_result"
    },
    {
     "data": {
      "image/png": "[encoded data removed]",
      "text/plain": [
       "<matplotlib.figure.Figure at 0xda65908>"
      ]
     },
     "metadata": {},
     "output_type": "display_data"
    }
   ],
   "source": [
    "df['Pre_Issue_Market_Cap'].plot(kind='box')"
   ]
  },
  {
   "cell_type": "code",
   "execution_count": 153,
   "metadata": {
    "collapsed": true
   },
   "outputs": [],
   "source": [
    "#### Check for null values"
   ]
  },
  {
   "cell_type": "code",
   "execution_count": 154,
   "metadata": {
    "collapsed": false
   },
   "outputs": [
    {
     "data": {
      "text/html": [
       "<div>\n",
       "<table border=\"1\" class=\"dataframe\">\n",
       "  <thead>\n",
       "    <tr style=\"text-align: right;\">\n",
       "      <th></th>\n",
       "      <th>Success</th>\n",
       "      <th>CFP_Strength</th>\n",
       "      <th>Security_Type_Class</th>\n",
       "      <th>Gender</th>\n",
       "      <th>Target_Raise</th>\n",
       "      <th>Total_Raised</th>\n",
       "      <th>Pre_Issue_Market_Cap</th>\n",
       "    </tr>\n",
       "  </thead>\n",
       "  <tbody>\n",
       "  </tbody>\n",
       "</table>\n",
       "</div>"
      ],
      "text/plain": [
       "Empty DataFrame\n",
       "Columns: [Success, CFP_Strength, Security_Type_Class, Gender, Target_Raise, Total_Raised, Pre_Issue_Market_Cap]\n",
       "Index: []"
      ]
     },
     "execution_count": 154,
     "metadata": {},
     "output_type": "execute_result"
    }
   ],
   "source": [
    "df[df.Target_Raise.isnull()]"
   ]
  },
  {
   "cell_type": "code",
   "execution_count": 155,
   "metadata": {
    "collapsed": false
   },
   "outputs": [
    {
     "data": {
      "text/html": [
       "<div>\n",
       "<table border=\"1\" class=\"dataframe\">\n",
       "  <thead>\n",
       "    <tr style=\"text-align: right;\">\n",
       "      <th></th>\n",
       "      <th>Success</th>\n",
       "      <th>CFP_Strength</th>\n",
       "      <th>Security_Type_Class</th>\n",
       "      <th>Gender</th>\n",
       "      <th>Target_Raise</th>\n",
       "      <th>Total_Raised</th>\n",
       "      <th>Pre_Issue_Market_Cap</th>\n",
       "    </tr>\n",
       "  </thead>\n",
       "  <tbody>\n",
       "  </tbody>\n",
       "</table>\n",
       "</div>"
      ],
      "text/plain": [
       "Empty DataFrame\n",
       "Columns: [Success, CFP_Strength, Security_Type_Class, Gender, Target_Raise, Total_Raised, Pre_Issue_Market_Cap]\n",
       "Index: []"
      ]
     },
     "execution_count": 155,
     "metadata": {},
     "output_type": "execute_result"
    }
   ],
   "source": [
    "df[df.Total_Raised.isnull()]"
   ]
  },
  {
   "cell_type": "code",
   "execution_count": 156,
   "metadata": {
    "collapsed": false
   },
   "outputs": [
    {
     "data": {
      "text/html": [
       "<div>\n",
       "<table border=\"1\" class=\"dataframe\">\n",
       "  <thead>\n",
       "    <tr style=\"text-align: right;\">\n",
       "      <th></th>\n",
       "      <th>Success</th>\n",
       "      <th>CFP_Strength</th>\n",
       "      <th>Security_Type_Class</th>\n",
       "      <th>Gender</th>\n",
       "      <th>Target_Raise</th>\n",
       "      <th>Total_Raised</th>\n",
       "      <th>Pre_Issue_Market_Cap</th>\n",
       "    </tr>\n",
       "  </thead>\n",
       "  <tbody>\n",
       "  </tbody>\n",
       "</table>\n",
       "</div>"
      ],
      "text/plain": [
       "Empty DataFrame\n",
       "Columns: [Success, CFP_Strength, Security_Type_Class, Gender, Target_Raise, Total_Raised, Pre_Issue_Market_Cap]\n",
       "Index: []"
      ]
     },
     "execution_count": 156,
     "metadata": {},
     "output_type": "execute_result"
    }
   ],
   "source": [
    "df[df.Pre_Issue_Market_Cap.isnull()]"
   ]
  },
  {
   "cell_type": "code",
   "execution_count": 157,
   "metadata": {
    "collapsed": false
   },
   "outputs": [
    {
     "data": {
      "text/html": [
       "<div>\n",
       "<table border=\"1\" class=\"dataframe\">\n",
       "  <thead>\n",
       "    <tr style=\"text-align: right;\">\n",
       "      <th></th>\n",
       "      <th>Success</th>\n",
       "      <th>CFP_Strength</th>\n",
       "      <th>Security_Type_Class</th>\n",
       "      <th>Gender</th>\n",
       "      <th>Target_Raise</th>\n",
       "      <th>Total_Raised</th>\n",
       "      <th>Pre_Issue_Market_Cap</th>\n",
       "    </tr>\n",
       "  </thead>\n",
       "  <tbody>\n",
       "    <tr>\n",
       "      <th>Success</th>\n",
       "      <td>1.000000</td>\n",
       "      <td>-0.360029</td>\n",
       "      <td>-0.024682</td>\n",
       "      <td>0.009988</td>\n",
       "      <td>-0.007874</td>\n",
       "      <td>0.165163</td>\n",
       "      <td>-0.002731</td>\n",
       "    </tr>\n",
       "    <tr>\n",
       "      <th>CFP_Strength</th>\n",
       "      <td>-0.360029</td>\n",
       "      <td>1.000000</td>\n",
       "      <td>-0.130337</td>\n",
       "      <td>0.021715</td>\n",
       "      <td>0.011310</td>\n",
       "      <td>-0.038625</td>\n",
       "      <td>0.016047</td>\n",
       "    </tr>\n",
       "    <tr>\n",
       "      <th>Security_Type_Class</th>\n",
       "      <td>-0.024682</td>\n",
       "      <td>-0.130337</td>\n",
       "      <td>1.000000</td>\n",
       "      <td>-0.007142</td>\n",
       "      <td>0.017434</td>\n",
       "      <td>0.018345</td>\n",
       "      <td>-0.020087</td>\n",
       "    </tr>\n",
       "    <tr>\n",
       "      <th>Gender</th>\n",
       "      <td>0.009988</td>\n",
       "      <td>0.021715</td>\n",
       "      <td>-0.007142</td>\n",
       "      <td>1.000000</td>\n",
       "      <td>-0.012525</td>\n",
       "      <td>-0.025614</td>\n",
       "      <td>-0.008439</td>\n",
       "    </tr>\n",
       "    <tr>\n",
       "      <th>Target_Raise</th>\n",
       "      <td>-0.007874</td>\n",
       "      <td>0.011310</td>\n",
       "      <td>0.017434</td>\n",
       "      <td>-0.012525</td>\n",
       "      <td>1.000000</td>\n",
       "      <td>0.038910</td>\n",
       "      <td>0.012049</td>\n",
       "    </tr>\n",
       "    <tr>\n",
       "      <th>Total_Raised</th>\n",
       "      <td>0.165163</td>\n",
       "      <td>-0.038625</td>\n",
       "      <td>0.018345</td>\n",
       "      <td>-0.025614</td>\n",
       "      <td>0.038910</td>\n",
       "      <td>1.000000</td>\n",
       "      <td>-0.005256</td>\n",
       "    </tr>\n",
       "    <tr>\n",
       "      <th>Pre_Issue_Market_Cap</th>\n",
       "      <td>-0.002731</td>\n",
       "      <td>0.016047</td>\n",
       "      <td>-0.020087</td>\n",
       "      <td>-0.008439</td>\n",
       "      <td>0.012049</td>\n",
       "      <td>-0.005256</td>\n",
       "      <td>1.000000</td>\n",
       "    </tr>\n",
       "  </tbody>\n",
       "</table>\n",
       "</div>"
      ],
      "text/plain": [
       "                       Success  CFP_Strength  Security_Type_Class    Gender  \\\n",
       "Success               1.000000     -0.360029            -0.024682  0.009988   \n",
       "CFP_Strength         -0.360029      1.000000            -0.130337  0.021715   \n",
       "Security_Type_Class  -0.024682     -0.130337             1.000000 -0.007142   \n",
       "Gender                0.009988      0.021715            -0.007142  1.000000   \n",
       "Target_Raise         -0.007874      0.011310             0.017434 -0.012525   \n",
       "Total_Raised          0.165163     -0.038625             0.018345 -0.025614   \n",
       "Pre_Issue_Market_Cap -0.002731      0.016047            -0.020087 -0.008439   \n",
       "\n",
       "                      Target_Raise  Total_Raised  Pre_Issue_Market_Cap  \n",
       "Success                  -0.007874      0.165163             -0.002731  \n",
       "CFP_Strength              0.011310     -0.038625              0.016047  \n",
       "Security_Type_Class       0.017434      0.018345             -0.020087  \n",
       "Gender                   -0.012525     -0.025614             -0.008439  \n",
       "Target_Raise              1.000000      0.038910              0.012049  \n",
       "Total_Raised              0.038910      1.000000             -0.005256  \n",
       "Pre_Issue_Market_Cap      0.012049     -0.005256              1.000000  "
      ]
     },
     "execution_count": 157,
     "metadata": {},
     "output_type": "execute_result"
    }
   ],
   "source": [
    "df.corr()"
   ]
  },
  {
   "cell_type": "code",
   "execution_count": 158,
   "metadata": {
    "collapsed": true
   },
   "outputs": [],
   "source": [
    "#### Frequency Tables"
   ]
  },
  {
   "cell_type": "code",
   "execution_count": 159,
   "metadata": {
    "collapsed": false
   },
   "outputs": [
    {
     "name": "stdout",
     "output_type": "stream",
     "text": [
      "CFP_Strength  1   2     3\n",
      "Success                  \n",
      "0             2  97  2807\n",
      "1             6  42    66\n"
     ]
    }
   ],
   "source": [
    "print pd.crosstab(df['Success'], df['CFP_Strength'], rownames=['Success'])"
   ]
  },
  {
   "cell_type": "code",
   "execution_count": 160,
   "metadata": {
    "collapsed": true
   },
   "outputs": [],
   "source": [
    "#### Dummy variables"
   ]
  },
  {
   "cell_type": "code",
   "execution_count": 161,
   "metadata": {
    "collapsed": false
   },
   "outputs": [
    {
     "name": "stdout",
     "output_type": "stream",
     "text": [
      "   CFP_Strength_1  CFP_Strength_2  CFP_Strength_3\n",
      "0             0.0             0.0             1.0\n",
      "1             0.0             0.0             1.0\n",
      "2             0.0             0.0             1.0\n",
      "3             0.0             0.0             1.0\n",
      "4             0.0             0.0             1.0\n"
     ]
    }
   ],
   "source": [
    "dummy_ranks = pd.get_dummies(df['CFP_Strength'], prefix='CFP_Strength')\n",
    "print dummy_ranks.head()"
   ]
  },
  {
   "cell_type": "code",
   "execution_count": 162,
   "metadata": {
    "collapsed": true
   },
   "outputs": [],
   "source": [
    "#### Odds Ratios"
   ]
  },
  {
   "cell_type": "code",
   "execution_count": 163,
   "metadata": {
    "collapsed": false
   },
   "outputs": [
    {
     "name": "stdout",
     "output_type": "stream",
     "text": [
      "   Success  Total_Raised  Pre_Issue_Market_Cap  CFP_Strength_1  \\\n",
      "0        0        150000              10000000             0.0   \n",
      "1        0             0                     0             0.0   \n",
      "2        0        485822               5000000             0.0   \n",
      "3        0             0                666000             0.0   \n",
      "4        0             0                     0             0.0   \n",
      "\n",
      "   CFP_Strength_2  CFP_Strength_3  \n",
      "0             0.0             1.0  \n",
      "1             0.0             1.0  \n",
      "2             0.0             1.0  \n",
      "3             0.0             1.0  \n",
      "4             0.0             1.0  \n"
     ]
    }
   ],
   "source": [
    "cols_to_keep = ['Success','Total_Raised','Pre_Issue_Market_Cap']\n",
    "handCalc = df[cols_to_keep].join(dummy_ranks.ix[:, 'CFP_Strength_1':])\n",
    "print handCalc.head()"
   ]
  },
  {
   "cell_type": "code",
   "execution_count": 164,
   "metadata": {
    "collapsed": true
   },
   "outputs": [],
   "source": [
    "#### Crosstab CFP_Strength_1 Success"
   ]
  },
  {
   "cell_type": "code",
   "execution_count": 165,
   "metadata": {
    "collapsed": true
   },
   "outputs": [],
   "source": [
    "#### Frequency Table cutting CFP_Strength_1 and whether or not company was successful reaching target raise"
   ]
  },
  {
   "cell_type": "code",
   "execution_count": 166,
   "metadata": {
    "collapsed": false
   },
   "outputs": [
    {
     "name": "stdout",
     "output_type": "stream",
     "text": [
      "CFP_Strength_1   0.0  1.0\n",
      "Success                  \n",
      "0               2904    2\n",
      "1                108    6\n"
     ]
    }
   ],
   "source": [
    "print pd.crosstab(handCalc['Success'], handCalc['CFP_Strength_1'], rownames=['Success'])"
   ]
  },
  {
   "cell_type": "code",
   "execution_count": 167,
   "metadata": {
    "collapsed": true
   },
   "outputs": [],
   "source": [
    "#### Odds of successfully reaching target raise if company used an industry leading platform (CFP_Strength_1)"
   ]
  },
  {
   "cell_type": "code",
   "execution_count": 168,
   "metadata": {
    "collapsed": false
   },
   "outputs": [
    {
     "data": {
      "text/plain": [
       "3.0"
      ]
     },
     "execution_count": 168,
     "metadata": {},
     "output_type": "execute_result"
    }
   ],
   "source": [
    "odds_exposed = 6.0/2.0\n",
    "odds_exposed"
   ]
  },
  {
   "cell_type": "code",
   "execution_count": 169,
   "metadata": {
    "collapsed": true
   },
   "outputs": [],
   "source": [
    "#### Calculate odds of success if company used an industry leading platform"
   ]
  },
  {
   "cell_type": "code",
   "execution_count": 170,
   "metadata": {
    "collapsed": false
   },
   "outputs": [
    {
     "data": {
      "text/plain": [
       "0.0371900826446281"
      ]
     },
     "execution_count": 170,
     "metadata": {},
     "output_type": "execute_result"
    }
   ],
   "source": [
    "odd_unexp = 108.0/2904.0\n",
    "odd_unexp"
   ]
  },
  {
   "cell_type": "code",
   "execution_count": 171,
   "metadata": {
    "collapsed": true
   },
   "outputs": [],
   "source": [
    "#### Calcualte the odds ratio"
   ]
  },
  {
   "cell_type": "code",
   "execution_count": 172,
   "metadata": {
    "collapsed": false
   },
   "outputs": [
    {
     "data": {
      "text/plain": [
       "80.66666666666667"
      ]
     },
     "execution_count": 172,
     "metadata": {},
     "output_type": "execute_result"
    }
   ],
   "source": [
    "OR = odds_exposed/odd_unexp\n",
    "OR"
   ]
  },
  {
   "cell_type": "code",
   "execution_count": 173,
   "metadata": {
    "collapsed": true
   },
   "outputs": [],
   "source": [
    "#### For companies that used an industry leading platform (CFP_Strength_1) the odds of successfully reaching target raise are 81 times the odds of companies who did not use an industry leading platform"
   ]
  },
  {
   "cell_type": "code",
   "execution_count": 174,
   "metadata": {
    "collapsed": true
   },
   "outputs": [],
   "source": [
    "#### Crosstab CFP_Strength_3 Success"
   ]
  },
  {
   "cell_type": "code",
   "execution_count": 175,
   "metadata": {
    "collapsed": true
   },
   "outputs": [],
   "source": [
    "#### Frequency Table cutting CFP_Strength_3 and whether or not company was successful reaching target raise"
   ]
  },
  {
   "cell_type": "code",
   "execution_count": 176,
   "metadata": {
    "collapsed": false
   },
   "outputs": [
    {
     "name": "stdout",
     "output_type": "stream",
     "text": [
      "CFP_Strength_3  0.0   1.0\n",
      "Success                  \n",
      "0                99  2807\n",
      "1                48    66\n"
     ]
    }
   ],
   "source": [
    "print pd.crosstab(handCalc['Success'], handCalc['CFP_Strength_3'], rownames=['Success'])"
   ]
  },
  {
   "cell_type": "code",
   "execution_count": 177,
   "metadata": {
    "collapsed": true
   },
   "outputs": [],
   "source": [
    "#### Odds of successfully reaching target raise if company does not use an industry leading platform"
   ]
  },
  {
   "cell_type": "code",
   "execution_count": 178,
   "metadata": {
    "collapsed": false
   },
   "outputs": [
    {
     "name": "stdout",
     "output_type": "stream",
     "text": [
      "0.0484948343427\n"
     ]
    }
   ],
   "source": [
    "OR = (66.0*99.0)/(48*2807)\n",
    "print OR"
   ]
  },
  {
   "cell_type": "code",
   "execution_count": 179,
   "metadata": {
    "collapsed": false
   },
   "outputs": [
    {
     "name": "stdout",
     "output_type": "stream",
     "text": [
      "-0.9511\n"
     ]
    }
   ],
   "source": [
    "print .0489-1"
   ]
  },
  {
   "cell_type": "code",
   "execution_count": 180,
   "metadata": {
    "collapsed": true
   },
   "outputs": [],
   "source": [
    "#### The odds of successfully reaching target raise are 95% lower for companies who used a non-industry leading platform compared to companies who did not use a non-industry leading platform.  In other words, for companies who used a non-industry leading platform the odds of successfully reaching target raise are .0489 times the odds of companies who did not use a non-industry leading platform (Strength_1). "
   ]
  },
  {
   "cell_type": "code",
   "execution_count": 181,
   "metadata": {
    "collapsed": true
   },
   "outputs": [],
   "source": [
    "#### Create a clean data frame for the regression"
   ]
  },
  {
   "cell_type": "code",
   "execution_count": 182,
   "metadata": {
    "collapsed": false
   },
   "outputs": [
    {
     "name": "stdout",
     "output_type": "stream",
     "text": [
      "   Success  Total_Raised  Pre_Issue_Market_Cap  CFP_Strength_1  \\\n",
      "0        0        150000              10000000             0.0   \n",
      "1        0             0                     0             0.0   \n",
      "2        0        485822               5000000             0.0   \n",
      "3        0             0                666000             0.0   \n",
      "4        0             0                     0             0.0   \n",
      "\n",
      "   CFP_Strength_2  CFP_Strength_3  \n",
      "0             0.0             1.0  \n",
      "1             0.0             1.0  \n",
      "2             0.0             1.0  \n",
      "3             0.0             1.0  \n",
      "4             0.0             1.0  \n"
     ]
    }
   ],
   "source": [
    "cols_to_keep = ['Success','Total_Raised','Pre_Issue_Market_Cap']\n",
    "data = df[cols_to_keep].join(dummy_ranks.ix[:, 'CFP_Strength_1':])\n",
    "print data.head()"
   ]
  },
  {
   "cell_type": "code",
   "execution_count": 183,
   "metadata": {
    "collapsed": true
   },
   "outputs": [],
   "source": [
    "#### Manually add the intercept"
   ]
  },
  {
   "cell_type": "code",
   "execution_count": 184,
   "metadata": {
    "collapsed": false
   },
   "outputs": [],
   "source": [
    "data['intercept'] = 1.0"
   ]
  },
  {
   "cell_type": "code",
   "execution_count": 185,
   "metadata": {
    "collapsed": true
   },
   "outputs": [],
   "source": [
    "#### Set the covariates to a variable called train_cols"
   ]
  },
  {
   "cell_type": "code",
   "execution_count": 186,
   "metadata": {
    "collapsed": true
   },
   "outputs": [],
   "source": [
    "train_cols = data.columns[1:]\n",
    "#### Index([Total_Raised, Pre_Issue_Market_Cap, CFP_Strength_1, CFP_Strength_2, CFP_Strength_3], dtype=object)"
   ]
  },
  {
   "cell_type": "code",
   "execution_count": 187,
   "metadata": {
    "collapsed": true
   },
   "outputs": [],
   "source": [
    "#### Fit the model"
   ]
  },
  {
   "cell_type": "code",
   "execution_count": 188,
   "metadata": {
    "collapsed": false
   },
   "outputs": [
    {
     "name": "stdout",
     "output_type": "stream",
     "text": [
      "Optimization terminated successfully.\n",
      "         Current function value: 0.129138\n",
      "         Iterations 8\n"
     ]
    }
   ],
   "source": [
    "logit = sm.Logit(data['Success'], data[train_cols])\n",
    "result = logit.fit()"
   ]
  },
  {
   "cell_type": "code",
   "execution_count": 189,
   "metadata": {
    "collapsed": false
   },
   "outputs": [
    {
     "name": "stdout",
     "output_type": "stream",
     "text": [
      "                           Logit Regression Results                           \n",
      "==============================================================================\n",
      "Dep. Variable:                Success   No. Observations:                 3020\n",
      "Model:                          Logit   Df Residuals:                     3015\n",
      "Method:                           MLE   Df Model:                            4\n",
      "Date:                Thu, 11 Aug 2016   Pseudo R-squ.:                  0.1965\n",
      "Time:                        13:13:51   Log-Likelihood:                -390.00\n",
      "converged:                       True   LL-Null:                       -485.38\n",
      "                                        LLR p-value:                 3.639e-40\n",
      "========================================================================================\n",
      "                           coef    std err          z      P>|z|      [95.0% Conf. Int.]\n",
      "----------------------------------------------------------------------------------------\n",
      "Total_Raised          2.206e-07   4.41e-08      5.007      0.000      1.34e-07  3.07e-07\n",
      "Pre_Issue_Market_Cap  4.882e-10   1.96e-09      0.249      0.803     -3.35e-09  4.33e-09\n",
      "CFP_Strength_1           1.8060        nan        nan        nan           nan       nan\n",
      "CFP_Strength_2           0.0752        nan        nan        nan           nan       nan\n",
      "CFP_Strength_3          -2.8777        nan        nan        nan           nan       nan\n",
      "intercept               -0.9966        nan        nan        nan           nan       nan\n",
      "========================================================================================\n"
     ]
    }
   ],
   "source": [
    "print result.summary()"
   ]
  },
  {
   "cell_type": "code",
   "execution_count": 83,
   "metadata": {
    "collapsed": true
   },
   "outputs": [],
   "source": [
    "#### Calculate the odds ratio of the coefficients and their 95% CI intervals"
   ]
  },
  {
   "cell_type": "code",
   "execution_count": 84,
   "metadata": {
    "collapsed": false
   },
   "outputs": [
    {
     "name": "stdout",
     "output_type": "stream",
     "text": [
      "Total_Raised            1.000000\n",
      "Pre_Issue_Market_Cap    1.000000\n",
      "CFP_Strength_1          6.086021\n",
      "CFP_Strength_2          1.078055\n",
      "CFP_Strength_3          0.056262\n",
      "intercept               0.369137\n",
      "dtype: float64\n"
     ]
    }
   ],
   "source": [
    "print np.exp(result.params)"
   ]
  },
  {
   "cell_type": "code",
   "execution_count": 85,
   "metadata": {
    "collapsed": false
   },
   "outputs": [
    {
     "name": "stdout",
     "output_type": "stream",
     "text": [
      "                      2.5  97.5        OR\n",
      "Total_Raised          1.0   1.0  1.000000\n",
      "Pre_Issue_Market_Cap  1.0   1.0  1.000000\n",
      "CFP_Strength_1        NaN   NaN  6.086021\n",
      "CFP_Strength_2        NaN   NaN  1.078055\n",
      "CFP_Strength_3        NaN   NaN  0.056262\n",
      "intercept             NaN   NaN  0.369137\n"
     ]
    }
   ],
   "source": [
    "params = result.params\n",
    "conf = result.conf_int()\n",
    "conf['OR'] = params\n",
    "conf.columns = ['2.5', '97.5', 'OR']\n",
    "print np.exp(conf)"
   ]
  },
  {
   "cell_type": "code",
   "execution_count": 86,
   "metadata": {
    "collapsed": true
   },
   "outputs": [],
   "source": [
    "#### Companies who used an average platform (CFP_Strength_2) had 1.07 times the odds of successfully reaching target raise compared to companies who used a non-industry leading platform (CFP_Strength_1). "
   ]
  },
  {
   "cell_type": "code",
   "execution_count": 87,
   "metadata": {
    "collapsed": true
   },
   "outputs": [],
   "source": [
    "def cartesian(arrays, out=None):\n",
    "    \"\"\"\n",
    "    Generate a cartesian product of input arrays.\n",
    "    Parameters\n",
    "    ----------\n",
    "    arrays : list of array-like\n",
    "        1-D arrays to form the cartesian product of.\n",
    "    out : ndarray\n",
    "        Array to place the cartesian product in.\n",
    "    Returns\n",
    "    -------\n",
    "    out : ndarray\n",
    "        2-D array of shape (M, len(arrays)) containing cartesian products\n",
    "        formed of input arrays.\n",
    "    Examples\n",
    "    --------\n",
    "    >>> cartesian(([1, 2, 3], [4, 5], [6, 7]))\n",
    "    array([[1, 4, 6],\n",
    "           [1, 4, 7],\n",
    "           [1, 5, 6],\n",
    "           [1, 5, 7],\n",
    "           [2, 4, 6],\n",
    "           [2, 4, 7],\n",
    "           [2, 5, 6],\n",
    "           [2, 5, 7],\n",
    "           [3, 4, 6],\n",
    "           [3, 4, 7],\n",
    "           [3, 5, 6],\n",
    "           [3, 5, 7]])\n",
    "    \"\"\"\n",
    "\n",
    "    arrays = [np.asarray(x) for x in arrays]\n",
    "    dtype = arrays[0].dtype\n",
    "\n",
    "    n = np.prod([x.size for x in arrays])\n",
    "    if out is None:\n",
    "        out = np.zeros([n, len(arrays)], dtype=dtype)\n",
    "\n",
    "    m = n / arrays[0].size\n",
    "    out[:,0] = np.repeat(arrays[0], m)\n",
    "    if arrays[1:]:\n",
    "        cartesian(arrays[1:], out=out[0:m,1:])\n",
    "        for j in xrange(1, arrays[0].size):\n",
    "            out[j*m:(j+1)*m,1:] = out[0:m,1:]\n",
    "    return out"
   ]
  },
  {
   "cell_type": "code",
   "execution_count": 94,
   "metadata": {
    "collapsed": false
   },
   "outputs": [
    {
     "name": "stdout",
     "output_type": "stream",
     "text": [
      "[        0.           4222222.22222222   8444444.44444444\n",
      "  12666666.66666667  16888888.88888889  21111111.11111111\n",
      "  25333333.33333333  29555555.55555555  33777777.77777778  38000000.        ]\n",
      "[  0.00000000e+00   2.38609294e+08   4.77218588e+08   7.15827882e+08\n",
      "   9.54437176e+08   1.19304647e+09   1.43165576e+09   1.67026506e+09\n",
      "   1.90887435e+09   2.14748365e+09]\n"
     ]
    }
   ],
   "source": [
    "# instead of generating all possible values of Total Raised and Pre_Issue_Market_Cap, we're going\n",
    "# to use an evenly spaced range of 10 values from the min to the max \n",
    "Total_Raised_Amounts = np.linspace(data['Total_Raised'].min(), data['Total_Raised'].max(), 10)\n",
    "print Total_Raised_Amounts\n",
    "Pre_Issue_Market_Caps = np.linspace(data['Pre_Issue_Market_Cap'].min(), data['Pre_Issue_Market_Cap'].max(), 10)\n",
    "print Pre_Issue_Market_Caps\n",
    "combos = pd.DataFrame(cartesian([Total_Raised_Amounts, Pre_Issue_Market_Caps, [1, 2, 3, 4], [1.]]))"
   ]
  },
  {
   "cell_type": "code",
   "execution_count": 95,
   "metadata": {
    "collapsed": true
   },
   "outputs": [],
   "source": [
    "# Recreate the dummy variables"
   ]
  },
  {
   "cell_type": "code",
   "execution_count": 100,
   "metadata": {
    "collapsed": false
   },
   "outputs": [],
   "source": [
    "combos.columns = ['Total_Raised', 'Pre_Issue_Market_Cap', 'CFP_Strength', 'intercept']\n",
    "dummy_ranks = pd.get_dummies(combos['CFP_Strength'], prefix='CFP_Strength')\n",
    "dummy_ranks.columns = ['CFP_Strength_1', 'CFP_Strength_2', 'CFP_Strength_3', 'CFP_Strength_4']\n",
    "cols_to_keep = ['Total_Raised', 'Pre_Issue_Market_Cap', 'CFP_Strength', 'intercept']\n",
    "combos = combos[cols_to_keep].join(dummy_ranks.ix[:, 'CFP_Strength_1':])"
   ]
  },
  {
   "cell_type": "code",
   "execution_count": 101,
   "metadata": {
    "collapsed": true
   },
   "outputs": [],
   "source": [
    "#### Make predictions on the enumerated dataset"
   ]
  },
  {
   "cell_type": "code",
   "execution_count": 102,
   "metadata": {
    "collapsed": false
   },
   "outputs": [
    {
     "name": "stdout",
     "output_type": "stream",
     "text": [
      "     Total_Raised  Pre_Issue_Market_Cap  CFP_Strength  intercept  \\\n",
      "395    38000000.0          1.908874e+09           4.0        1.0   \n",
      "396    38000000.0          2.147484e+09           1.0        1.0   \n",
      "397    38000000.0          2.147484e+09           2.0        1.0   \n",
      "398    38000000.0          2.147484e+09           3.0        1.0   \n",
      "399    38000000.0          2.147484e+09           4.0        1.0   \n",
      "\n",
      "     CFP_Strength_1  CFP_Strength_2  CFP_Strength_3  CFP_Strength_4  \\\n",
      "395             0.0             0.0             0.0             1.0   \n",
      "396             1.0             0.0             0.0             0.0   \n",
      "397             0.0             1.0             0.0             0.0   \n",
      "398             0.0             0.0             1.0             0.0   \n",
      "399             0.0             0.0             0.0             1.0   \n",
      "\n",
      "     Success_pred  \n",
      "395      0.999756  \n",
      "396      0.999964  \n",
      "397      0.999799  \n",
      "398      0.996156  \n",
      "399      0.999783  \n"
     ]
    },
    {
     "data": {
      "text/plain": [
       "400"
      ]
     },
     "execution_count": 102,
     "metadata": {},
     "output_type": "execute_result"
    }
   ],
   "source": [
    "combos['Success_pred'] = result.predict(combos[train_cols])\n",
    "print combos.tail()\n",
    "len(combos)"
   ]
  },
  {
   "cell_type": "code",
   "execution_count": 190,
   "metadata": {
    "collapsed": false
   },
   "outputs": [],
   "source": [
    "def isolate_and_plot(variable):\n",
    "    grouped = pd.pivot_table(combos, values=['Success_pred'], index=[variable, 'CFP_Strength'],\n",
    "    aggfunc=np.mean)"
   ]
  },
  {
   "cell_type": "code",
   "execution_count": 922,
   "metadata": {
    "collapsed": true
   },
   "outputs": [],
   "source": [
    "#### Results plot"
   ]
  },
  {
   "cell_type": "code",
   "execution_count": null,
   "metadata": {
    "collapsed": true
   },
   "outputs": [],
   "source": [
    "colors = 'rbgyrbgy'\n",
    "for col in combos.CFP_Strength.unique():\n",
    "    plt_data = grouped.ix[grouped.index.get_level_values(1)==col]\n",
    "    pl.plot(plt_data.index.get_level_values(0), plt_data['Success_pred'],\n",
    "            color=colors[int(col)])\n",
    "    \n",
    "pl.xlabel(variable)\n",
    "pl.ylabel(\"P(Success=1)\")\n",
    "pl.legend(['1', '2', '3', '4'], loc='upper left', title='CFP Strength')\n",
    "pl.title(\"Prob(Success=1) isolating \" + variable + \" and CFP Strength\")\n",
    "pl.show()\n",
    "\n",
    "isolate_and_plot('Total_Raised')\n",
    "isolate_and_plot('Pre_Issue_Market_Cap')"
   ]
  }
 ],
 "metadata": {
  "kernelspec": {
   "display_name": "Python 2",
   "language": "python",
   "name": "python2"
  },
  "language_info": {
   "codemirror_mode": {
    "name": "ipython",
    "version": 2
   },
   "file_extension": ".py",
   "mimetype": "text/x-python",
   "name": "python",
   "nbconvert_exporter": "python",
   "pygments_lexer": "ipython2",
   "version": "2.7.11"
  }
 },
 "nbformat": 4,
 "nbformat_minor": 0
}
