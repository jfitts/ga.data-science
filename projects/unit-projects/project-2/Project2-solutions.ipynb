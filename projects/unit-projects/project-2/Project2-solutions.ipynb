{
 "cells": [
  {
   "cell_type": "code",
   "execution_count": 1,
   "metadata": {
    "collapsed": false
   },
   "outputs": [],
   "source": [
    "%matplotlib inline\n",
    "import matplotlib.pyplot as plt\n",
    "import pandas as pd\n",
    "import statsmodels.api as sm\n",
    "import pylab as pl\n",
    "import numpy as np"
   ]
  },
  {
   "cell_type": "code",
   "execution_count": null,
   "metadata": {
    "collapsed": true
   },
   "outputs": [],
   "source": [
    "#### Read in your dataset, determine how many samples are present, and ID any missing data"
   ]
  },
  {
   "cell_type": "code",
   "execution_count": 2,
   "metadata": {
    "collapsed": false
   },
   "outputs": [
    {
     "data": {
      "text/html": [
       "<div>\n",
       "<table border=\"1\" class=\"dataframe\">\n",
       "  <thead>\n",
       "    <tr style=\"text-align: right;\">\n",
       "      <th></th>\n",
       "      <th>admit</th>\n",
       "      <th>gre</th>\n",
       "      <th>gpa</th>\n",
       "      <th>prestige</th>\n",
       "    </tr>\n",
       "  </thead>\n",
       "  <tbody>\n",
       "    <tr>\n",
       "      <th>0</th>\n",
       "      <td>0</td>\n",
       "      <td>380.0</td>\n",
       "      <td>3.61</td>\n",
       "      <td>3.0</td>\n",
       "    </tr>\n",
       "    <tr>\n",
       "      <th>1</th>\n",
       "      <td>1</td>\n",
       "      <td>660.0</td>\n",
       "      <td>3.67</td>\n",
       "      <td>3.0</td>\n",
       "    </tr>\n",
       "    <tr>\n",
       "      <th>2</th>\n",
       "      <td>1</td>\n",
       "      <td>800.0</td>\n",
       "      <td>4.00</td>\n",
       "      <td>1.0</td>\n",
       "    </tr>\n",
       "    <tr>\n",
       "      <th>3</th>\n",
       "      <td>1</td>\n",
       "      <td>640.0</td>\n",
       "      <td>3.19</td>\n",
       "      <td>4.0</td>\n",
       "    </tr>\n",
       "    <tr>\n",
       "      <th>4</th>\n",
       "      <td>0</td>\n",
       "      <td>520.0</td>\n",
       "      <td>2.93</td>\n",
       "      <td>4.0</td>\n",
       "    </tr>\n",
       "  </tbody>\n",
       "</table>\n",
       "</div>"
      ],
      "text/plain": [
       "   admit    gre   gpa  prestige\n",
       "0      0  380.0  3.61       3.0\n",
       "1      1  660.0  3.67       3.0\n",
       "2      1  800.0  4.00       1.0\n",
       "3      1  640.0  3.19       4.0\n",
       "4      0  520.0  2.93       4.0"
      ]
     },
     "execution_count": 2,
     "metadata": {},
     "output_type": "execute_result"
    }
   ],
   "source": [
    "df = pd.read_csv(\"admissions.csv\")\n",
    "df.head()"
   ]
  },
  {
   "cell_type": "code",
   "execution_count": null,
   "metadata": {
    "collapsed": true
   },
   "outputs": [],
   "source": [
    "### Below is the full dataset.  From above, below and look at csv file there are 400 samples, 4 columns, 2 missing values for gpa and gre and 1 missing value for prestige"
   ]
  },
  {
   "cell_type": "code",
   "execution_count": 7,
   "metadata": {
    "collapsed": false
   },
   "outputs": [
    {
     "name": "stdout",
     "output_type": "stream",
     "text": [
      "['admit', 'gre', 'gpa', 'prestige']\n",
      "['0', '380', '3.61', '3']\n",
      "['1', '660', '3.67', '3']\n",
      "['1', '800', '4', '1']\n",
      "['1', '640', '3.19', '4']\n",
      "['0', '520', '2.93', '4']\n",
      "['1', '760', '3', '2']\n",
      "['1', '560', '2.98', '1']\n",
      "['0', '400', '3.08', '2']\n",
      "['1', '540', '3.39', '3']\n",
      "['0', '700', '3.92', '2']\n",
      "['0', '800', '4', '4']\n",
      "['0', '440', '3.22', '1']\n",
      "['1', '760', '4', '1']\n",
      "['0', '700', '3.08', '2']\n",
      "['1', '700', '4', '1']\n",
      "['0', '480', '3.44', '3']\n",
      "['0', '780', '3.87', '4']\n",
      "['0', '360', '2.56', '3']\n",
      "['0', '800', '3.75', '2']\n",
      "['1', '540', '3.81', '1']\n",
      "['0', '500', '3.17', '3']\n",
      "['1', '660', '3.63', '2']\n",
      "['0', '600', '2.82', '4']\n",
      "['0', '680', '3.19', '4']\n",
      "['1', '760', '3.35', '2']\n",
      "['1', '800', '3.66', '1']\n",
      "['1', '620', '3.61', '1']\n",
      "['1', '520', '3.74', '4']\n",
      "['1', '780', '3.22', '2']\n",
      "['0', '520', '3.29', '1']\n",
      "['0', '540', '3.78', '4']\n",
      "['0', '760', '3.35', '3']\n",
      "['0', '600', '3.4', '3']\n",
      "['1', '800', '4', '3']\n",
      "['0', '360', '3.14', '1']\n",
      "['0', '400', '3.05', '2']\n",
      "['0', '580', '3.25', '1']\n",
      "['0', '520', '2.9', '3']\n",
      "['1', '500', '3.13', '2']\n",
      "['1', '520', '2.68', '3']\n",
      "['0', '560', '2.42', '2']\n",
      "['1', '580', '3.32', '2']\n",
      "['1', '600', '3.15', '2']\n",
      "['0', '500', '3.31', '3']\n",
      "['0', '700', '2.94', '2']\n",
      "['1', '460', '3.45', '3']\n",
      "['1', '580', '3.46', '2']\n",
      "['0', '500', '2.97', '4']\n",
      "['0', '440', '2.48', '4']\n",
      "['0', '400', '3.35', '3']\n",
      "['0', '640', '3.86', '3']\n",
      "['0', '440', '3.13', '4']\n",
      "['0', '740', '3.37', '4']\n",
      "['1', '680', '3.27', '2']\n",
      "['0', '660', '3.34', '3']\n",
      "['1', '740', '4', '3']\n",
      "['0', '560', '3.19', '3']\n",
      "['0', '380', '2.94', '3']\n",
      "['0', '400', '3.65', '2']\n",
      "['0', '600', '2.82', '4']\n",
      "['1', '620', '3.18', '2']\n",
      "['0', '560', '3.32', '4']\n",
      "['0', '640', '3.67', '3']\n",
      "['1', '680', '3.85', '3']\n",
      "['0', '580', '4', '3']\n",
      "['0', '600', '3.59', '2']\n",
      "['0', '740', '3.62', '4']\n",
      "['0', '620', '3.3', '1']\n",
      "['0', '580', '3.69', '1']\n",
      "['0', '800', '3.73', '1']\n",
      "['0', '640', '4', '3']\n",
      "['0', '300', '2.92', '4']\n",
      "['0', '480', '3.39', '4']\n",
      "['0', '580', '4', '2']\n",
      "['0', '720', '3.45', '4']\n",
      "['0', '720', '4', '3']\n",
      "['0', '560', '3.36', '3']\n",
      "['1', '800', '4', '3']\n",
      "['0', '540', '3.12', '1']\n",
      "['1', '620', '4', '1']\n",
      "['0', '700', '2.9', '4']\n",
      "['0', '620', '3.07', '2']\n",
      "['0', '500', '2.71', '2']\n",
      "['0', '380', '2.91', '4']\n",
      "['1', '500', '3.6', '3']\n",
      "['0', '520', '2.98', '2']\n",
      "['0', '600', '3.32', '2']\n",
      "['0', '600', '3.48', '2']\n",
      "['0', '700', '3.28', '1']\n",
      "['1', '660', '4', '2']\n",
      "['0', '700', '3.83', '2']\n",
      "['1', '720', '3.64', '1']\n",
      "['0', '800', '3.9', '2']\n",
      "['0', '580', '2.93', '2']\n",
      "['1', '660', '3.44', '2']\n",
      "['0', '660', '3.33', '2']\n",
      "['0', '640', '3.52', '4']\n",
      "['0', '480', '3.57', '2']\n",
      "['0', '700', '2.88', '2']\n",
      "['0', '400', '3.31', '3']\n",
      "['0', '340', '3.15', '3']\n",
      "['0', '580', '3.57', '3']\n",
      "['0', '380', '3.33', '4']\n",
      "['0', '540', '3.94', '3']\n",
      "['1', '660', '3.95', '2']\n",
      "['1', '740', '2.97', '2']\n",
      "['1', '700', '3.56', '1']\n",
      "['0', '480', '3.13', '2']\n",
      "['0', '400', '2.93', '3']\n",
      "['0', '480', '3.45', '2']\n",
      "['0', '680', '3.08', '4']\n",
      "['0', '420', '3.41', '4']\n",
      "['0', '360', '3', '3']\n",
      "['0', '600', '3.22', '1']\n",
      "['0', '720', '3.84', '3']\n",
      "['0', '620', '3.99', '3']\n",
      "['1', '440', '3.45', '2']\n",
      "['0', '700', '3.72', '2']\n",
      "['1', '800', '3.7', '1']\n",
      "['0', '340', '2.92', '3']\n",
      "['1', '520', '3.74', '2']\n",
      "['1', '480', '2.67', '2']\n",
      "['0', '520', '2.85', '3']\n",
      "['0', '500', '2.98', '3']\n",
      "['0', '720', '3.88', '3']\n",
      "['0', '540', '3.38', '4']\n",
      "['1', '600', '3.54', '1']\n",
      "['0', '740', '3.74', '4']\n",
      "['0', '540', '3.19', '2']\n",
      "['0', '460', '3.15', '4']\n",
      "['1', '620', '3.17', '2']\n",
      "['0', '640', '2.79', '2']\n",
      "['0', '580', '3.4', '2']\n",
      "['0', '500', '3.08', '3']\n",
      "['0', '560', '2.95', '2']\n",
      "['0', '500', '3.57', '3']\n",
      "['0', '560', '3.33', '4']\n",
      "['0', '700', '4', '3']\n",
      "['0', '620', '3.4', '2']\n",
      "['1', '600', '3.58', '1']\n",
      "['0', '640', '3.93', '2']\n",
      "['1', '700', '3.52', '4']\n",
      "['0', '620', '3.94', '4']\n",
      "['0', '580', '3.4', '3']\n",
      "['0', '580', '3.4', '4']\n",
      "['0', '380', '3.43', '3']\n",
      "['0', '480', '3.4', '2']\n",
      "['0', '560', '2.71', '3']\n",
      "['1', '480', '2.91', '1']\n",
      "['0', '740', '3.31', '1']\n",
      "['1', '800', '3.74', '1']\n",
      "['0', '400', '3.38', '2']\n",
      "['1', '640', '3.94', '2']\n",
      "['0', '580', '3.46', '3']\n",
      "['0', '620', '3.69', '3']\n",
      "['1', '580', '2.86', '4']\n",
      "['0', '560', '2.52', '2']\n",
      "['1', '480', '3.58', '1']\n",
      "['0', '660', '3.49', '2']\n",
      "['0', '700', '3.82', '3']\n",
      "['0', '600', '3.13', '2']\n",
      "['0', '640', '3.5', '2']\n",
      "['1', '700', '3.56', '2']\n",
      "['0', '520', '2.73', '2']\n",
      "['0', '580', '3.3', '2']\n",
      "['0', '700', '4', '1']\n",
      "['0', '440', '3.24', '4']\n",
      "['0', '720', '3.77', '3']\n",
      "['0', '500', '4', '3']\n",
      "['0', '600', '3.62', '3']\n",
      "['0', '400', '3.51', '3']\n",
      "['0', '540', '2.81', '3']\n",
      "['0', '680', '3.48', '3']\n",
      "['1', '800', '3.43', '2']\n",
      "['0', '500', '3.53', '4']\n",
      "['1', '620', '3.37', '2']\n",
      "['0', '520', '2.62', '2']\n",
      "['1', '620', '3.23', '3']\n",
      "['0', '620', '3.33', '3']\n",
      "['0', '300', '3.01', '3']\n",
      "['0', '620', '3.78', '3']\n",
      "['0', '500', '3.88', '4']\n",
      "['0', '700', '4', '2']\n",
      "['1', '540', '3.84', '2']\n",
      "['0', '500', '2.79', '4']\n",
      "['0', '800', '3.6', '2']\n",
      "['0', '560', '3.61', '3']\n",
      "['0', '', '', '2']\n",
      "['0', '560', '3.07', '2']\n",
      "['0', '500', '3.35', '2']\n",
      "['1', '640', '2.94', '2']\n",
      "['0', '800', '3.54', '3']\n",
      "['0', '640', '3.76', '3']\n",
      "['0', '380', '3.59', '4']\n",
      "['1', '600', '3.47', '2']\n",
      "['0', '560', '3.59', '2']\n",
      "['0', '660', '3.07', '3']\n",
      "['1', '400', '3.23', '4']\n",
      "['0', '600', '3.63', '3']\n",
      "['0', '580', '3.77', '4']\n",
      "['0', '800', '3.31', '3']\n",
      "['1', '580', '3.2', '2']\n",
      "['1', '700', '4', '1']\n",
      "['0', '420', '3.92', '4']\n",
      "['1', '600', '3.89', '1']\n",
      "['1', '780', '3.8', '3']\n",
      "['0', '740', '3.54', '1']\n",
      "['1', '640', '3.63', '1']\n",
      "['0', '540', '3.16', '3']\n",
      "['0', '580', '3.5', '2']\n",
      "['0', '740', '3.34', '4']\n",
      "['0', '580', '3.02', '2']\n",
      "['0', '', '2.87', '2']\n",
      "['0', '640', '3.38', '3']\n",
      "['1', '600', '3.56', '2']\n",
      "['1', '660', '2.91', '3']\n",
      "['0', '340', '2.9', '1']\n",
      "['1', '460', '3.64', '1']\n",
      "['0', '460', '2.98', '1']\n",
      "['1', '560', '3.59', '2']\n",
      "['0', '540', '3.28', '3']\n",
      "['0', '680', '3.99', '3']\n",
      "['1', '480', '3.02', '1']\n",
      "['0', '800', '3.47', '3']\n",
      "['0', '800', '2.9', '2']\n",
      "['1', '720', '3.5', '3']\n",
      "['0', '620', '3.58', '2']\n",
      "['0', '540', '3.02', '4']\n",
      "['0', '480', '3.43', '2']\n",
      "['1', '720', '3.42', '2']\n",
      "['0', '580', '3.29', '4']\n",
      "['0', '600', '3.28', '3']\n",
      "['0', '380', '3.38', '2']\n",
      "['0', '420', '2.67', '3']\n",
      "['1', '800', '3.53', '1']\n",
      "['0', '620', '3.05', '2']\n",
      "['1', '660', '', '']\n",
      "['0', '480', '4', '2']\n",
      "['0', '500', '2.86', '4']\n",
      "['0', '700', '3.45', '3']\n",
      "['0', '440', '2.76', '2']\n",
      "['1', '520', '3.81', '1']\n",
      "['1', '680', '2.96', '3']\n",
      "['0', '620', '3.22', '2']\n",
      "['0', '540', '3.04', '1']\n",
      "['0', '800', '3.91', '3']\n",
      "['0', '680', '3.34', '2']\n",
      "['0', '440', '3.17', '2']\n",
      "['0', '680', '3.64', '3']\n",
      "['0', '640', '3.73', '3']\n",
      "['0', '660', '3.31', '4']\n",
      "['0', '620', '3.21', '4']\n",
      "['1', '520', '4', '2']\n",
      "['1', '540', '3.55', '4']\n",
      "['1', '740', '3.52', '4']\n",
      "['0', '640', '3.35', '3']\n",
      "['1', '520', '3.3', '2']\n",
      "['1', '620', '3.95', '3']\n",
      "['0', '520', '3.51', '2']\n",
      "['0', '640', '3.81', '2']\n",
      "['0', '680', '3.11', '2']\n",
      "['0', '440', '3.15', '2']\n",
      "['1', '520', '3.19', '3']\n",
      "['1', '620', '3.95', '3']\n",
      "['1', '520', '3.9', '3']\n",
      "['0', '380', '3.34', '3']\n",
      "['0', '560', '3.24', '4']\n",
      "['1', '600', '3.64', '3']\n",
      "['1', '680', '3.46', '2']\n",
      "['0', '500', '2.81', '3']\n",
      "['1', '640', '3.95', '2']\n",
      "['0', '540', '3.33', '3']\n",
      "['1', '680', '3.67', '2']\n",
      "['0', '660', '3.32', '1']\n",
      "['0', '520', '3.12', '2']\n",
      "['1', '600', '2.98', '2']\n",
      "['0', '460', '3.77', '3']\n",
      "['1', '580', '3.58', '1']\n",
      "['1', '680', '3', '4']\n",
      "['1', '660', '3.14', '2']\n",
      "['0', '660', '3.94', '2']\n",
      "['0', '360', '3.27', '3']\n",
      "['0', '660', '3.45', '4']\n",
      "['0', '520', '3.1', '4']\n",
      "['1', '440', '3.39', '2']\n",
      "['0', '600', '3.31', '4']\n",
      "['1', '800', '3.22', '1']\n",
      "['1', '660', '3.7', '4']\n",
      "['0', '800', '3.15', '4']\n",
      "['0', '420', '2.26', '4']\n",
      "['1', '620', '3.45', '2']\n",
      "['0', '800', '2.78', '2']\n",
      "['0', '680', '3.7', '2']\n",
      "['0', '800', '3.97', '1']\n",
      "['0', '480', '2.55', '1']\n",
      "['0', '520', '3.25', '3']\n",
      "['0', '560', '3.16', '1']\n",
      "['0', '460', '3.07', '2']\n",
      "['0', '540', '3.5', '2']\n",
      "['0', '720', '3.4', '3']\n",
      "['0', '640', '3.3', '2']\n",
      "['1', '660', '3.6', '3']\n",
      "['1', '400', '3.15', '2']\n",
      "['1', '680', '3.98', '2']\n",
      "['0', '220', '2.83', '3']\n",
      "['0', '580', '3.46', '4']\n",
      "['1', '540', '3.17', '1']\n",
      "['0', '580', '3.51', '2']\n",
      "['0', '540', '3.13', '2']\n",
      "['0', '440', '2.98', '3']\n",
      "['0', '560', '4', '3']\n",
      "['0', '660', '3.67', '2']\n",
      "['0', '660', '3.77', '3']\n",
      "['1', '520', '3.65', '4']\n",
      "['0', '540', '3.46', '4']\n",
      "['1', '300', '2.84', '2']\n",
      "['1', '340', '3', '2']\n",
      "['1', '780', '3.63', '4']\n",
      "['1', '480', '3.71', '4']\n",
      "['0', '540', '3.28', '1']\n",
      "['0', '460', '3.14', '3']\n",
      "['0', '460', '3.58', '2']\n",
      "['0', '500', '3.01', '4']\n",
      "['0', '420', '2.69', '2']\n",
      "['0', '520', '2.7', '3']\n",
      "['0', '680', '3.9', '1']\n",
      "['0', '680', '3.31', '2']\n",
      "['1', '560', '3.48', '2']\n",
      "['0', '580', '3.34', '2']\n",
      "['0', '500', '2.93', '4']\n",
      "['0', '740', '4', '3']\n",
      "['0', '660', '3.59', '3']\n",
      "['0', '420', '2.96', '1']\n",
      "['0', '560', '3.43', '3']\n",
      "['1', '460', '3.64', '3']\n",
      "['1', '620', '3.71', '1']\n",
      "['0', '520', '3.15', '3']\n",
      "['0', '620', '3.09', '4']\n",
      "['0', '540', '3.2', '1']\n",
      "['1', '660', '3.47', '3']\n",
      "['0', '500', '3.23', '4']\n",
      "['1', '560', '2.65', '3']\n",
      "['0', '500', '3.95', '4']\n",
      "['0', '580', '3.06', '2']\n",
      "['0', '520', '3.35', '3']\n",
      "['0', '500', '3.03', '3']\n",
      "['0', '600', '3.35', '2']\n",
      "['0', '580', '3.8', '2']\n",
      "['0', '400', '3.36', '2']\n",
      "['0', '620', '2.85', '2']\n",
      "['1', '780', '4', '2']\n",
      "['0', '620', '3.43', '3']\n",
      "['1', '580', '3.12', '3']\n",
      "['0', '700', '3.52', '2']\n",
      "['1', '540', '3.78', '2']\n",
      "['1', '760', '2.81', '1']\n",
      "['0', '700', '3.27', '2']\n",
      "['0', '720', '3.31', '1']\n",
      "['1', '560', '3.69', '3']\n",
      "['0', '720', '3.94', '3']\n",
      "['1', '520', '4', '1']\n",
      "['1', '540', '3.49', '1']\n",
      "['0', '680', '3.14', '2']\n",
      "['0', '460', '3.44', '2']\n",
      "['1', '560', '3.36', '1']\n",
      "['0', '480', '2.78', '3']\n",
      "['0', '460', '2.93', '3']\n",
      "['0', '620', '3.63', '3']\n",
      "['0', '580', '4', '1']\n",
      "['0', '800', '3.89', '2']\n",
      "['1', '540', '3.77', '2']\n",
      "['1', '680', '3.76', '3']\n",
      "['1', '680', '2.42', '1']\n",
      "['1', '620', '3.37', '1']\n",
      "['0', '560', '3.78', '2']\n",
      "['0', '560', '3.49', '4']\n",
      "['0', '620', '3.63', '2']\n",
      "['1', '800', '4', '2']\n",
      "['0', '640', '3.12', '3']\n",
      "['0', '540', '2.7', '2']\n",
      "['0', '700', '3.65', '2']\n",
      "['1', '540', '3.49', '2']\n",
      "['0', '540', '3.51', '2']\n",
      "['0', '660', '4', '1']\n",
      "['1', '480', '2.62', '2']\n",
      "['0', '420', '3.02', '1']\n",
      "['1', '740', '3.86', '2']\n",
      "['0', '580', '3.36', '2']\n",
      "['0', '640', '3.17', '2']\n",
      "['0', '640', '3.51', '2']\n",
      "['1', '800', '3.05', '2']\n",
      "['1', '660', '3.88', '2']\n",
      "['1', '600', '3.38', '3']\n",
      "['1', '620', '3.75', '2']\n",
      "['1', '460', '3.99', '3']\n",
      "['0', '620', '4', '2']\n",
      "['0', '560', '3.04', '3']\n",
      "['0', '460', '2.63', '2']\n",
      "['0', '700', '3.65', '2']\n",
      "['0', '600', '3.89', '3']\n"
     ]
    }
   ],
   "source": [
    "import csv\n",
    "\n",
    "f = open('admissions.csv')\n",
    "\n",
    "csv_f = csv.reader(f)\n",
    "\n",
    "for row in csv_f:\n",
    "\tprint row\n",
    "\n",
    "f.close()"
   ]
  },
  {
   "cell_type": "code",
   "execution_count": 9,
   "metadata": {
    "collapsed": false
   },
   "outputs": [
    {
     "data": {
      "text/plain": [
       "(400, 4)"
      ]
     },
     "execution_count": 9,
     "metadata": {},
     "output_type": "execute_result"
    }
   ],
   "source": [
    "df.shape"
   ]
  },
  {
   "cell_type": "code",
   "execution_count": null,
   "metadata": {
    "collapsed": true
   },
   "outputs": [],
   "source": [
    "#### Create tables of descriptive statistics for each of the variables (n,mean,median,standard deviation)"
   ]
  },
  {
   "cell_type": "code",
   "execution_count": 34,
   "metadata": {
    "collapsed": false
   },
   "outputs": [
    {
     "data": {
      "text/html": [
       "<div>\n",
       "<table border=\"1\" class=\"dataframe\">\n",
       "  <thead>\n",
       "    <tr style=\"text-align: right;\">\n",
       "      <th></th>\n",
       "      <th>admit</th>\n",
       "      <th>gre</th>\n",
       "      <th>gpa</th>\n",
       "      <th>prestige</th>\n",
       "    </tr>\n",
       "  </thead>\n",
       "  <tbody>\n",
       "    <tr>\n",
       "      <th>count</th>\n",
       "      <td>400.000000</td>\n",
       "      <td>398.000000</td>\n",
       "      <td>398.00000</td>\n",
       "      <td>399.000000</td>\n",
       "    </tr>\n",
       "    <tr>\n",
       "      <th>mean</th>\n",
       "      <td>0.317500</td>\n",
       "      <td>588.040201</td>\n",
       "      <td>3.39093</td>\n",
       "      <td>2.486216</td>\n",
       "    </tr>\n",
       "    <tr>\n",
       "      <th>std</th>\n",
       "      <td>0.466087</td>\n",
       "      <td>115.628513</td>\n",
       "      <td>0.38063</td>\n",
       "      <td>0.945333</td>\n",
       "    </tr>\n",
       "    <tr>\n",
       "      <th>min</th>\n",
       "      <td>0.000000</td>\n",
       "      <td>220.000000</td>\n",
       "      <td>2.26000</td>\n",
       "      <td>1.000000</td>\n",
       "    </tr>\n",
       "    <tr>\n",
       "      <th>25%</th>\n",
       "      <td>0.000000</td>\n",
       "      <td>520.000000</td>\n",
       "      <td>3.13000</td>\n",
       "      <td>2.000000</td>\n",
       "    </tr>\n",
       "    <tr>\n",
       "      <th>50%</th>\n",
       "      <td>0.000000</td>\n",
       "      <td>580.000000</td>\n",
       "      <td>3.39500</td>\n",
       "      <td>2.000000</td>\n",
       "    </tr>\n",
       "    <tr>\n",
       "      <th>75%</th>\n",
       "      <td>1.000000</td>\n",
       "      <td>660.000000</td>\n",
       "      <td>3.67000</td>\n",
       "      <td>3.000000</td>\n",
       "    </tr>\n",
       "    <tr>\n",
       "      <th>max</th>\n",
       "      <td>1.000000</td>\n",
       "      <td>800.000000</td>\n",
       "      <td>4.00000</td>\n",
       "      <td>4.000000</td>\n",
       "    </tr>\n",
       "  </tbody>\n",
       "</table>\n",
       "</div>"
      ],
      "text/plain": [
       "            admit         gre        gpa    prestige\n",
       "count  400.000000  398.000000  398.00000  399.000000\n",
       "mean     0.317500  588.040201    3.39093    2.486216\n",
       "std      0.466087  115.628513    0.38063    0.945333\n",
       "min      0.000000  220.000000    2.26000    1.000000\n",
       "25%      0.000000  520.000000    3.13000    2.000000\n",
       "50%      0.000000  580.000000    3.39500    2.000000\n",
       "75%      1.000000  660.000000    3.67000    3.000000\n",
       "max      1.000000  800.000000    4.00000    4.000000"
      ]
     },
     "execution_count": 34,
     "metadata": {},
     "output_type": "execute_result"
    }
   ],
   "source": [
    "df.describe(include='all')"
   ]
  },
  {
   "cell_type": "code",
   "execution_count": null,
   "metadata": {
    "collapsed": true
   },
   "outputs": [],
   "source": [
    "#### Describe the distributions of your data"
   ]
  },
  {
   "cell_type": "code",
   "execution_count": 11,
   "metadata": {
    "collapsed": false
   },
   "outputs": [
    {
     "data": {
      "text/plain": [
       "(array([  3.,   4.,  16.,  33.,  42.,  57.,  76.,  65.,  39.,  63.]),\n",
       " array([ 2.26 ,  2.434,  2.608,  2.782,  2.956,  3.13 ,  3.304,  3.478,\n",
       "         3.652,  3.826,  4.   ]),\n",
       " <a list of 10 Patch objects>)"
      ]
     },
     "execution_count": 11,
     "metadata": {},
     "output_type": "execute_result"
    },
    {
     "data": {
      "image/png": "[encoded data removed]",
      "text/plain": [
       "<matplotlib.figure.Figure at 0xa533e48>"
      ]
     },
     "metadata": {},
     "output_type": "display_data"
    }
   ],
   "source": [
    "plt.hist(df.gpa.dropna())"
   ]
  },
  {
   "cell_type": "code",
   "execution_count": 12,
   "metadata": {
    "collapsed": false
   },
   "outputs": [
    {
     "data": {
      "text/plain": [
       "(array([  1.,   3.,  16.,  28.,  50.,  75.,  81.,  65.,  44.,  35.]),\n",
       " array([ 220.,  278.,  336.,  394.,  452.,  510.,  568.,  626.,  684.,\n",
       "         742.,  800.]),\n",
       " <a list of 10 Patch objects>)"
      ]
     },
     "execution_count": 12,
     "metadata": {},
     "output_type": "execute_result"
    },
    {
     "data": {
      "image/png": "[encoded data removed]",
      "text/plain": [
       "<matplotlib.figure.Figure at 0xa533588>"
      ]
     },
     "metadata": {},
     "output_type": "display_data"
    }
   ],
   "source": [
    "plt.hist(df.gre.dropna())"
   ]
  },
  {
   "cell_type": "code",
   "execution_count": null,
   "metadata": {
    "collapsed": true
   },
   "outputs": [],
   "source": [
    "### Data appears to be normally distributed"
   ]
  },
  {
   "cell_type": "code",
   "execution_count": null,
   "metadata": {
    "collapsed": true
   },
   "outputs": [],
   "source": [
    "#### Plot box plots for each variable"
   ]
  },
  {
   "cell_type": "code",
   "execution_count": 18,
   "metadata": {
    "collapsed": false
   },
   "outputs": [
    {
     "data": {
      "text/plain": [
       "{'boxes': [<matplotlib.lines.Line2D at 0xb326b38>],\n",
       " 'caps': [<matplotlib.lines.Line2D at 0xb36c7f0>,\n",
       "  <matplotlib.lines.Line2D at 0xb36cd68>],\n",
       " 'fliers': [<matplotlib.lines.Line2D at 0xb381898>],\n",
       " 'means': [],\n",
       " 'medians': [<matplotlib.lines.Line2D at 0xb381320>],\n",
       " 'whiskers': [<matplotlib.lines.Line2D at 0xb326c50>,\n",
       "  <matplotlib.lines.Line2D at 0xb36c278>]}"
      ]
     },
     "execution_count": 18,
     "metadata": {},
     "output_type": "execute_result"
    },
    {
     "data": {
      "image/png": "[encoded data removed]",
      "text/plain": [
       "<matplotlib.figure.Figure at 0xb0aa4a8>"
      ]
     },
     "metadata": {},
     "output_type": "display_data"
    }
   ],
   "source": [
    "plt.boxplot(df.gre.dropna())"
   ]
  },
  {
   "cell_type": "code",
   "execution_count": 19,
   "metadata": {
    "collapsed": false
   },
   "outputs": [
    {
     "data": {
      "text/plain": [
       "{'boxes': [<matplotlib.lines.Line2D at 0xb3f27b8>],\n",
       " 'caps': [<matplotlib.lines.Line2D at 0xb402470>,\n",
       "  <matplotlib.lines.Line2D at 0xb4029e8>],\n",
       " 'fliers': [<matplotlib.lines.Line2D at 0xb40d518>],\n",
       " 'means': [],\n",
       " 'medians': [<matplotlib.lines.Line2D at 0xb402f60>],\n",
       " 'whiskers': [<matplotlib.lines.Line2D at 0xb3f28d0>,\n",
       "  <matplotlib.lines.Line2D at 0xb3f2eb8>]}"
      ]
     },
     "execution_count": 19,
     "metadata": {},
     "output_type": "execute_result"
    },
    {
     "data": {
      "image/png": "[encoded data removed]",
      "text/plain": [
       "<matplotlib.figure.Figure at 0xaaace80>"
      ]
     },
     "metadata": {},
     "output_type": "display_data"
    }
   ],
   "source": [
    "plt.boxplot(df.gpa.dropna())"
   ]
  },
  {
   "cell_type": "code",
   "execution_count": 20,
   "metadata": {
    "collapsed": false
   },
   "outputs": [
    {
     "data": {
      "text/plain": [
       "{'boxes': [<matplotlib.lines.Line2D at 0xb65d588>],\n",
       " 'caps': [<matplotlib.lines.Line2D at 0xb66c240>,\n",
       "  <matplotlib.lines.Line2D at 0xb66c7b8>],\n",
       " 'fliers': [<matplotlib.lines.Line2D at 0xb6782e8>],\n",
       " 'means': [],\n",
       " 'medians': [<matplotlib.lines.Line2D at 0xb66cd30>],\n",
       " 'whiskers': [<matplotlib.lines.Line2D at 0xb65d6a0>,\n",
       "  <matplotlib.lines.Line2D at 0xb65dc88>]}"
      ]
     },
     "execution_count": 20,
     "metadata": {},
     "output_type": "execute_result"
    },
    {
     "data": {
      "image/png": "[encoded data removed]",
      "text/plain": [
       "<matplotlib.figure.Figure at 0xb519438>"
      ]
     },
     "metadata": {},
     "output_type": "display_data"
    }
   ],
   "source": [
    "plt.boxplot(df.prestige.dropna())"
   ]
  },
  {
   "cell_type": "code",
   "execution_count": null,
   "metadata": {
    "collapsed": true
   },
   "outputs": [],
   "source": [
    "#### Create a covariance matrix"
   ]
  },
  {
   "cell_type": "code",
   "execution_count": 35,
   "metadata": {
    "collapsed": false
   },
   "outputs": [
    {
     "data": {
      "text/html": [
       "<div>\n",
       "<table border=\"1\" class=\"dataframe\">\n",
       "  <thead>\n",
       "    <tr style=\"text-align: right;\">\n",
       "      <th></th>\n",
       "      <th>admit</th>\n",
       "      <th>gre</th>\n",
       "      <th>gpa</th>\n",
       "      <th>prestige</th>\n",
       "    </tr>\n",
       "  </thead>\n",
       "  <tbody>\n",
       "    <tr>\n",
       "      <th>admit</th>\n",
       "      <td>0.217237</td>\n",
       "      <td>9.871271</td>\n",
       "      <td>0.031191</td>\n",
       "      <td>-0.106189</td>\n",
       "    </tr>\n",
       "    <tr>\n",
       "      <th>gre</th>\n",
       "      <td>9.871271</td>\n",
       "      <td>13369.953040</td>\n",
       "      <td>16.824761</td>\n",
       "      <td>-13.648068</td>\n",
       "    </tr>\n",
       "    <tr>\n",
       "      <th>gpa</th>\n",
       "      <td>0.031191</td>\n",
       "      <td>16.824761</td>\n",
       "      <td>0.144879</td>\n",
       "      <td>-0.021260</td>\n",
       "    </tr>\n",
       "    <tr>\n",
       "      <th>prestige</th>\n",
       "      <td>-0.106189</td>\n",
       "      <td>-13.648068</td>\n",
       "      <td>-0.021260</td>\n",
       "      <td>0.893654</td>\n",
       "    </tr>\n",
       "  </tbody>\n",
       "</table>\n",
       "</div>"
      ],
      "text/plain": [
       "             admit           gre        gpa   prestige\n",
       "admit     0.217237      9.871271   0.031191  -0.106189\n",
       "gre       9.871271  13369.953040  16.824761 -13.648068\n",
       "gpa       0.031191     16.824761   0.144879  -0.021260\n",
       "prestige -0.106189    -13.648068  -0.021260   0.893654"
      ]
     },
     "execution_count": 35,
     "metadata": {},
     "output_type": "execute_result"
    }
   ],
   "source": [
    "df.cov(min_periods=None)"
   ]
  },
  {
   "cell_type": "code",
   "execution_count": null,
   "metadata": {
    "collapsed": true
   },
   "outputs": [],
   "source": [
    "#### Determine any issues or limitations, based upon your exploratory analysis"
   ]
  },
  {
   "cell_type": "code",
   "execution_count": null,
   "metadata": {
    "collapsed": true
   },
   "outputs": [],
   "source": [
    "### The missing gre, gpa and prestige will have to be imputed using the mean or those records will need to be omitted"
   ]
  }
 ],
 "metadata": {
  "kernelspec": {
   "display_name": "Python 2",
   "language": "python",
   "name": "python2"
  },
  "language_info": {
   "codemirror_mode": {
    "name": "ipython",
    "version": 2
   },
   "file_extension": ".py",
   "mimetype": "text/x-python",
   "name": "python",
   "nbconvert_exporter": "python",
   "pygments_lexer": "ipython2",
   "version": "2.7.11"
  }
 },
 "nbformat": 4,
 "nbformat_minor": 0
}
